{
 "cells": [
  {
   "cell_type": "code",
   "execution_count": 14,
   "metadata": {
    "collapsed": false
   },
   "outputs": [
    {
     "name": "stdout",
     "output_type": "stream",
     "text": [
      "Using matplotlib backend: agg\n",
      "Populating the interactive namespace from numpy and matplotlib\n"
     ]
    }
   ],
   "source": [
    "%pylab\n",
    "%matplotlib inline \n",
    "from npp.nucleiScatter import makeNucleiScatterPlot,M,mE,mN,mH"
   ]
  },
  {
   "cell_type": "code",
   "execution_count": 4,
   "metadata": {
    "collapsed": false
   },
   "outputs": [
    {
     "data": {
      "image/png": "[encoded data removed]",
      "text/plain": [
       "<matplotlib.figure.Figure at 0x7f4139f7f668>"
      ]
     },
     "metadata": {},
     "output_type": "display_data"
    }
   ],
   "source": [
    "import npp.observedDecays\n",
    "\n",
    "def mb(Z,A):\n",
    "    if (A,Z) in npp.observedDecays.observedBetaMinus:\n",
    "        return 'r'\n",
    "    elif (A,Z) in npp.observedDecays.observedBetaPlus:\n",
    "        return 'b'\n",
    "    elif (A,Z) in npp.observedDecays.observedEC:\n",
    "        return 'g'\n",
    "    else :\n",
    "        return None\n",
    "    \n",
    "makeNucleiScatterPlot(mb)"
   ]
  },
  {
   "cell_type": "code",
   "execution_count": 6,
   "metadata": {
    "collapsed": false
   },
   "outputs": [
    {
     "name": "stdout",
     "output_type": "stream",
     "text": [
      "Help on function makePlot in module npp.nucleiScatter:\n",
      "\n",
      "makePlot(f, fileName=None)\n",
      "        makeNucleiScatterPlot(fn):\n",
      "      fn : function taking two arguments Z,A and returning a string representing a \n",
      "           color, for example 'r','b','g','k',...\n",
      "    makes a scatter plot of the nuclei in the N-Z plane with each nuclide plotted as a point whose color is determined by the return value of the function passed as an argument. If the function returns None, then no color is used.\n",
      "\n"
     ]
    }
   ],
   "source": [
    "help(makeNucleiScatterPlot)"
   ]
  },
  {
   "cell_type": "code",
   "execution_count": 19,
   "metadata": {
    "collapsed": false
   },
   "outputs": [
    {
     "data": {
      "text/plain": [
       "1.00782503223"
      ]
     },
     "execution_count": 19,
     "metadata": {},
     "output_type": "execute_result"
    }
   ],
   "source": [
    "M(1,1)"
   ]
  },
  {
   "cell_type": "code",
   "execution_count": 20,
   "metadata": {
    "collapsed": false
   },
   "outputs": [
    {
     "data": {
      "text/plain": [
       "0.00055"
      ]
     },
     "execution_count": 20,
     "metadata": {},
     "output_type": "execute_result"
    }
   ],
   "source": [
    "mE"
   ]
  },
  {
   "cell_type": "code",
   "execution_count": null,
   "metadata": {
    "collapsed": true
   },
   "outputs": [],
   "source": []
  }
 ],
 "metadata": {
  "kernelspec": {
   "display_name": "Python 3",
   "language": "python",
   "name": "python3"
  },
  "language_info": {
   "codemirror_mode": {
    "name": "ipython",
    "version": 3
   },
   "file_extension": ".py",
   "mimetype": "text/x-python",
   "name": "python",
   "nbconvert_exporter": "python",
   "pygments_lexer": "ipython3",
   "version": "3.4.3"
  }
 },
 "nbformat": 4,
 "nbformat_minor": 0
}

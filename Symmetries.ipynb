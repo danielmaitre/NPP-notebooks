{
 "cells": [
  {
   "cell_type": "code",
   "execution_count": 1,
   "metadata": {
    "collapsed": false
   },
   "outputs": [],
   "source": [
    "import sympy\n",
    "from sympy.physics.quantum import TensorProduct\n",
    "from sympy import Matrix,symbols,pprint,factor,expand,simplify,I\n",
    "sympy.init_printing()\n",
    "import pandas as pd"
   ]
  },
  {
   "cell_type": "markdown",
   "metadata": {},
   "source": [
    "These are helper functions to \n",
    "- find the simultaneous eigenvectors of a set of operators\n",
    "- extract components in a basis\n",
    "- expand tensor products"
   ]
  },
  {
   "cell_type": "code",
   "execution_count": 2,
   "metadata": {
    "collapsed": false
   },
   "outputs": [
    {
     "name": "stdout",
     "output_type": "stream",
     "text": [
      "Using matplotlib backend: nbAgg\n",
      "Populating the interactive namespace from numpy and matplotlib\n"
     ]
    }
   ],
   "source": [
    "from npp.linalg import findBasis,getComponents\n",
    "from npp.linalg import TensorExpand as ex"
   ]
  },
  {
   "cell_type": "markdown",
   "metadata": {},
   "source": [
    "This defines the variables I need"
   ]
  },
  {
   "cell_type": "code",
   "execution_count": 3,
   "metadata": {
    "collapsed": false
   },
   "outputs": [],
   "source": [
    "A,B,C,D,E,F,G,H,J,K,L,M,a,b,c,d,x,y = symbols('A,B,C,D,E,F,G,H,J,K,L,M,a,b,c,d,x,y') # I should be kept for the imaginary unit\n",
    "v11,v12,v13,v21,v22,v23,v31,v32,v33=symbols('v11,v12,v13,v21,v22,v23,v31,v32,v33')\n",
    "w11,w12,w13,w21,w22,w23,w31,w32,w33=symbols('w11,w12,w13,w21,w22,w23,w31,w32,w33')\n",
    "u11,u12,u13,u21,u22,u23,u31,u32,u33=symbols('u11,u12,u13,u21,u22,u23,u31,u32,u33')\n",
    "One,Two,OneP,TwoP=sympy.symbols(\"|1\\\\rangle,|2\\\\rangle,|1'\\\\rangle,|2'\\\\rangle\",commutative=False)\n",
    "Plus,Minus,PlusP,MinusP=symbols(\"Plus,Minus,PlusP,MinusP\",commutative=False)\n",
    "a1,b1,a2,b2,c1,c2,c3,c4=symbols(\"a1,b1,a2,b2,c1,c2,c3,c4\",commutative=True)\n"
   ]
  },
  {
   "cell_type": "markdown",
   "metadata": {},
   "source": [
    "# Tensor product"
   ]
  },
  {
   "cell_type": "markdown",
   "metadata": {},
   "source": [
    "we can see that the tensor product has the form we expect"
   ]
  },
  {
   "cell_type": "code",
   "execution_count": 4,
   "metadata": {
    "collapsed": false,
    "scrolled": true
   },
   "outputs": [
    {
     "data": {
      "image/png": "[encoded data removed]",
      "text/latex": [
       "$$\\left[\\begin{matrix}A x\\\\A y\\\\B x\\\\B y\\\\C x\\\\C y\\end{matrix}\\right]$$"
      ],
      "text/plain": [
       "⎡A⋅x⎤\n",
       "⎢   ⎥\n",
       "⎢A⋅y⎥\n",
       "⎢   ⎥\n",
       "⎢B⋅x⎥\n",
       "⎢   ⎥\n",
       "⎢B⋅y⎥\n",
       "⎢   ⎥\n",
       "⎢C⋅x⎥\n",
       "⎢   ⎥\n",
       "⎣C⋅y⎦"
      ]
     },
     "execution_count": 4,
     "metadata": {},
     "output_type": "execute_result"
    }
   ],
   "source": [
    "v=Matrix([[A],[B],[C]])\n",
    "w=Matrix([[x],[y]])\n",
    "vw=TensorProduct(v,w)\n",
    "vw"
   ]
  },
  {
   "cell_type": "markdown",
   "metadata": {},
   "source": [
    "We construct the tensor product of $O$ and $P$\n",
    "\n",
    "$T=O\\otimes P$"
   ]
  },
  {
   "cell_type": "code",
   "execution_count": 5,
   "metadata": {
    "collapsed": false
   },
   "outputs": [
    {
     "data": {
      "image/png": "[encoded data removed]",
      "text/latex": [
       "$$\\left[\\begin{matrix}D a & D b & E a & E b & F a & F b\\\\D c & D d & E c & E d & F c & F d\\\\G a & G b & H a & H b & J a & J b\\\\G c & G d & H c & H d & J c & J d\\\\K a & K b & L a & L b & M a & M b\\\\K c & K d & L c & L d & M c & M d\\end{matrix}\\right]$$"
      ],
      "text/plain": [
       "⎡D⋅a  D⋅b  E⋅a  E⋅b  F⋅a  F⋅b⎤\n",
       "⎢                            ⎥\n",
       "⎢D⋅c  D⋅d  E⋅c  E⋅d  F⋅c  F⋅d⎥\n",
       "⎢                            ⎥\n",
       "⎢G⋅a  G⋅b  H⋅a  H⋅b  J⋅a  J⋅b⎥\n",
       "⎢                            ⎥\n",
       "⎢G⋅c  G⋅d  H⋅c  H⋅d  J⋅c  J⋅d⎥\n",
       "⎢                            ⎥\n",
       "⎢K⋅a  K⋅b  L⋅a  L⋅b  M⋅a  M⋅b⎥\n",
       "⎢                            ⎥\n",
       "⎣K⋅c  K⋅d  L⋅c  L⋅d  M⋅c  M⋅d⎦"
      ]
     },
     "execution_count": 5,
     "metadata": {},
     "output_type": "execute_result"
    }
   ],
   "source": [
    "O=Matrix([[D,E,F],[G,H,J],[K,L,M]])\n",
    "P=Matrix([[a,b],[c,d]])\n",
    "T=TensorProduct(O,P)\n",
    "T"
   ]
  },
  {
   "cell_type": "markdown",
   "metadata": {},
   "source": [
    "Here we check that the tensor product of two operators has the right property, namely:\n",
    "\n",
    "$T \\,(v\\otimes w) = (Ov)\\otimes (Pw)$"
   ]
  },
  {
   "cell_type": "code",
   "execution_count": 6,
   "metadata": {
    "collapsed": false
   },
   "outputs": [
    {
     "name": "stdout",
     "output_type": "stream",
     "text": [
      "True\n",
      "⎛⎡(a⋅x + b⋅y)⋅(A⋅D + B⋅E + C⋅F)⎤, ⎡(a⋅x + b⋅y)⋅(A⋅D + B⋅E + C⋅F)⎤⎞\n",
      "⎜⎢                             ⎥  ⎢                             ⎥⎟\n",
      "⎜⎢(c⋅x + d⋅y)⋅(A⋅D + B⋅E + C⋅F)⎥  ⎢(c⋅x + d⋅y)⋅(A⋅D + B⋅E + C⋅F)⎥⎟\n",
      "⎜⎢                             ⎥  ⎢                             ⎥⎟\n",
      "⎜⎢(a⋅x + b⋅y)⋅(A⋅G + B⋅H + C⋅J)⎥  ⎢(a⋅x + b⋅y)⋅(A⋅G + B⋅H + C⋅J)⎥⎟\n",
      "⎜⎢                             ⎥  ⎢                             ⎥⎟\n",
      "⎜⎢(c⋅x + d⋅y)⋅(A⋅G + B⋅H + C⋅J)⎥  ⎢(c⋅x + d⋅y)⋅(A⋅G + B⋅H + C⋅J)⎥⎟\n",
      "⎜⎢                             ⎥  ⎢                             ⎥⎟\n",
      "⎜⎢(a⋅x + b⋅y)⋅(A⋅K + B⋅L + C⋅M)⎥  ⎢(a⋅x + b⋅y)⋅(A⋅K + B⋅L + C⋅M)⎥⎟\n",
      "⎜⎢                             ⎥  ⎢                             ⎥⎟\n",
      "⎝⎣(c⋅x + d⋅y)⋅(A⋅K + B⋅L + C⋅M)⎦  ⎣(c⋅x + d⋅y)⋅(A⋅K + B⋅L + C⋅M)⎦⎠\n"
     ]
    }
   ],
   "source": [
    "pprint (expand(T*vw)==expand(TensorProduct(O*v,P*w)))\n",
    "pprint((factor(T*vw),TensorProduct(O*v,P*w)))"
   ]
  },
  {
   "cell_type": "markdown",
   "metadata": {},
   "source": [
    "# SU(2)"
   ]
  },
  {
   "cell_type": "markdown",
   "metadata": {},
   "source": [
    "These are our two states"
   ]
  },
  {
   "cell_type": "code",
   "execution_count": 7,
   "metadata": {
    "collapsed": false
   },
   "outputs": [
    {
     "data": {
      "image/png": "[encoded data removed]",
      "text/latex": [
       "$$\\left ( a_{1} |1\\rangle + b_{1} |2\\rangle, \\quad a_{2} |1\\rangle + b_{2} |2\\rangle\\right )$$"
      ],
      "text/plain": [
       "(a₁⋅|1\\rangle + b₁⋅|2\\rangle, a₂⋅|1\\rangle + b₂⋅|2\\rangle)"
      ]
     },
     "execution_count": 7,
     "metadata": {},
     "output_type": "execute_result"
    }
   ],
   "source": [
    "psi1=a1*One+b1*Two\n",
    "psi2=a2*One+b2*Two\n",
    "(psi1,psi2) "
   ]
  },
  {
   "cell_type": "markdown",
   "metadata": {},
   "source": [
    "This is the combination of the two states"
   ]
  },
  {
   "cell_type": "code",
   "execution_count": 8,
   "metadata": {
    "collapsed": false
   },
   "outputs": [
    {
     "data": {
      "image/png": "[encoded data removed]",
      "text/latex": [
       "$$a_{1} a_{2} {|1\\rangle}\\otimes {|1\\rangle} + a_{1} b_{2} {|1\\rangle}\\otimes {|2\\rangle} + a_{2} b_{1} {|2\\rangle}\\otimes {|1\\rangle} + b_{1} b_{2} {|2\\rangle}\\otimes {|2\\rangle}$$"
      ],
      "text/plain": [
       "a₁⋅a₂⋅|1\\rangle⨂ |1\\rangle + a₁⋅b₂⋅|1\\rangle⨂ |2\\rangle + a₂⋅b₁⋅|2\\rangle⨂ |1\\\n",
       "rangle + b₁⋅b₂⋅|2\\rangle⨂ |2\\rangle"
      ]
     },
     "execution_count": 8,
     "metadata": {},
     "output_type": "execute_result"
    }
   ],
   "source": [
    "combined=ex(TensorProduct(psi1,psi2))\n",
    "combined"
   ]
  },
  {
   "cell_type": "markdown",
   "metadata": {},
   "source": [
    "We change the basis from $|1\\rangle\\otimes|2\\rangle,|2\\rangle\\otimes |1\\rangle$ to \n",
    "\n",
    "$|+\\rangle=\\frac{1}{2}\\left(|1\\rangle\\otimes|2\\rangle+|2\\rangle\\otimes |1\\rangle\\right)$\n",
    "\n",
    "$|-\\rangle=\\frac{1}{2}\\left(|1\\rangle\\otimes|2\\rangle-|2\\rangle\\otimes |1\\rangle\\right)$"
   ]
  },
  {
   "cell_type": "code",
   "execution_count": 9,
   "metadata": {
    "collapsed": false
   },
   "outputs": [],
   "source": [
    "rule=[\n",
    "    (TensorProduct(One,Two),(Plus+Minus)/sympy.sqrt(2)),\n",
    "    (TensorProduct(Two,One),(Plus-Minus)/sympy.sqrt(2))\n",
    "]\n",
    "combinedPM=ex(combined.subs(rule))"
   ]
  },
  {
   "cell_type": "markdown",
   "metadata": {},
   "source": [
    "These are the components in terms of the new basis:"
   ]
  },
  {
   "cell_type": "code",
   "execution_count": 10,
   "metadata": {
    "collapsed": false
   },
   "outputs": [
    {
     "data": {
      "image/png": "[encoded data removed]",
      "text/latex": [
       "$$\\left[\\begin{matrix}a_{1} a_{2}\\\\\\frac{a_{1} b_{2}}{2} \\sqrt{2} + \\frac{a_{2} b_{1}}{2} \\sqrt{2}\\\\b_{1} b_{2}\\\\\\frac{a_{1} b_{2}}{2} \\sqrt{2} - \\frac{a_{2} b_{1}}{2} \\sqrt{2}\\end{matrix}\\right]$$"
      ],
      "text/plain": [
       "⎡       a₁⋅a₂       ⎤\n",
       "⎢                   ⎥\n",
       "⎢√2⋅a₁⋅b₂   √2⋅a₂⋅b₁⎥\n",
       "⎢──────── + ────────⎥\n",
       "⎢   2          2    ⎥\n",
       "⎢                   ⎥\n",
       "⎢       b₁⋅b₂       ⎥\n",
       "⎢                   ⎥\n",
       "⎢√2⋅a₁⋅b₂   √2⋅a₂⋅b₁⎥\n",
       "⎢──────── - ────────⎥\n",
       "⎣   2          2    ⎦"
      ]
     },
     "execution_count": 10,
     "metadata": {},
     "output_type": "execute_result"
    }
   ],
   "source": [
    "basis=[\n",
    "    TensorProduct(One,One),\n",
    "    Plus,\n",
    "    TensorProduct(Two,Two),\n",
    "    Minus\n",
    "]\n",
    "components=getComponents(combinedPM,basis)\n",
    "components"
   ]
  },
  {
   "cell_type": "markdown",
   "metadata": {},
   "source": [
    "I would like to be able to identify these combinations of $a_i$ and $b_i$ as the components of this four dimensional vector, so I create a rule for the $a_ib_j$ products as a function of the components $c_1,c_2,c_3,c_4$. This is the rule: "
   ]
  },
  {
   "cell_type": "code",
   "execution_count": 11,
   "metadata": {
    "collapsed": false
   },
   "outputs": [
    {
     "data": {
      "image/png": "[encoded data removed]",
      "text/latex": [
       "$$\\left [ a_{1} a_{2} - c_{1}, \\quad \\frac{a_{1} b_{2}}{2} \\sqrt{2} + \\frac{a_{2} b_{1}}{2} \\sqrt{2} - c_{2}, \\quad b_{1} b_{2} - c_{3}, \\quad \\frac{a_{1} b_{2}}{2} \\sqrt{2} - \\frac{a_{2} b_{1}}{2} \\sqrt{2} - c_{4}\\right ]$$"
      ],
      "text/plain": [
       "⎡            √2⋅a₁⋅b₂   √2⋅a₂⋅b₁                   √2⋅a₁⋅b₂   √2⋅a₂⋅b₁     ⎤\n",
       "⎢a₁⋅a₂ - c₁, ──────── + ──────── - c₂, b₁⋅b₂ - c₃, ──────── - ──────── - c₄⎥\n",
       "⎣               2          2                          2          2         ⎦"
      ]
     },
     "execution_count": 11,
     "metadata": {},
     "output_type": "execute_result"
    }
   ],
   "source": [
    "eqs=[ comp-cc for comp,cc in zip(components,[c1,c2,c3,c4]) ]\n",
    "eqs"
   ]
  },
  {
   "cell_type": "code",
   "execution_count": 12,
   "metadata": {
    "collapsed": false
   },
   "outputs": [
    {
     "data": {
      "image/png": "[encoded data removed]",
      "text/latex": [
       "$$\\left [ a_{1} a_{2}, \\quad b_{1} b_{2}, \\quad a_{1} b_{2}, \\quad a_{2} b_{1}\\right ]$$"
      ],
      "text/plain": [
       "[a₁⋅a₂, b₁⋅b₂, a₁⋅b₂, a₂⋅b₁]"
      ]
     },
     "execution_count": 12,
     "metadata": {},
     "output_type": "execute_result"
    }
   ],
   "source": [
    "abprods=[a1*a2,b1*b2,a1*b2,a2*b1]\n",
    "abprods"
   ]
  },
  {
   "cell_type": "code",
   "execution_count": 13,
   "metadata": {
    "collapsed": false
   },
   "outputs": [
    {
     "name": "stdout",
     "output_type": "stream",
     "text": [
      "⎧                  √2⋅(c₂ + c₄)         √2⋅(c₂ - c₄)           ⎫\n",
      "⎨a₁⋅a₂: c₁, a₁⋅b₂: ────────────, a₂⋅b₁: ────────────, b₁⋅b₂: c₃⎬\n",
      "⎩                       2                    2                 ⎭\n"
     ]
    }
   ],
   "source": [
    "abTOc=sympy.solve(eqs,abprods)\n",
    "pprint (abTOc)"
   ]
  },
  {
   "cell_type": "markdown",
   "metadata": {},
   "source": [
    "Now we are ready to transform the two states $\\psi_1$ and $\\psi_2$ (it's easier to do on the combined state before the change to the basis with the + and - combination )"
   ]
  },
  {
   "cell_type": "code",
   "execution_count": 14,
   "metadata": {
    "collapsed": false
   },
   "outputs": [
    {
     "data": {
      "image/png": "[encoded data removed]",
      "text/latex": [
       "$$a_{1} a_{2} u_{11}^{2} {|1'\\rangle}\\otimes {|1'\\rangle} + a_{1} a_{2} u_{11} u_{21} {|1'\\rangle}\\otimes {|2'\\rangle} + a_{1} a_{2} u_{11} u_{21} {|2'\\rangle}\\otimes {|1'\\rangle} + a_{1} a_{2} u_{21}^{2} {|2'\\rangle}\\otimes {|2'\\rangle} + a_{1} b_{2} u_{11} u_{12} {|1'\\rangle}\\otimes {|1'\\rangle} + a_{1} b_{2} u_{11} u_{22} {|1'\\rangle}\\otimes {|2'\\rangle} + a_{1} b_{2} u_{12} u_{21} {|2'\\rangle}\\otimes {|1'\\rangle} + a_{1} b_{2} u_{21} u_{22} {|2'\\rangle}\\otimes {|2'\\rangle} + a_{2} b_{1} u_{11} u_{12} {|1'\\rangle}\\otimes {|1'\\rangle} + a_{2} b_{1} u_{11} u_{22} {|2'\\rangle}\\otimes {|1'\\rangle} + a_{2} b_{1} u_{12} u_{21} {|1'\\rangle}\\otimes {|2'\\rangle} + a_{2} b_{1} u_{21} u_{22} {|2'\\rangle}\\otimes {|2'\\rangle} + b_{1} b_{2} u_{12}^{2} {|1'\\rangle}\\otimes {|1'\\rangle} + b_{1} b_{2} u_{12} u_{22} {|1'\\rangle}\\otimes {|2'\\rangle} + b_{1} b_{2} u_{12} u_{22} {|2'\\rangle}\\otimes {|1'\\rangle} + b_{1} b_{2} u_{22}^{2} {|2'\\rangle}\\otimes {|2'\\rangle}$$"
      ],
      "text/plain": [
       "         2                                                                    \n",
       "a₁⋅a₂⋅u₁₁ ⋅|1'\\rangle⨂ |1'\\rangle + a₁⋅a₂⋅u₁₁⋅u₂₁⋅|1'\\rangle⨂ |2'\\rangle + a₁⋅\n",
       "\n",
       "                                             2                                \n",
       "a₂⋅u₁₁⋅u₂₁⋅|2'\\rangle⨂ |1'\\rangle + a₁⋅a₂⋅u₂₁ ⋅|2'\\rangle⨂ |2'\\rangle + a₁⋅b₂⋅\n",
       "\n",
       "                                                                              \n",
       "u₁₁⋅u₁₂⋅|1'\\rangle⨂ |1'\\rangle + a₁⋅b₂⋅u₁₁⋅u₂₂⋅|1'\\rangle⨂ |2'\\rangle + a₁⋅b₂⋅\n",
       "\n",
       "                                                                              \n",
       "u₁₂⋅u₂₁⋅|2'\\rangle⨂ |1'\\rangle + a₁⋅b₂⋅u₂₁⋅u₂₂⋅|2'\\rangle⨂ |2'\\rangle + a₂⋅b₁⋅\n",
       "\n",
       "                                                                              \n",
       "u₁₁⋅u₁₂⋅|1'\\rangle⨂ |1'\\rangle + a₂⋅b₁⋅u₁₁⋅u₂₂⋅|2'\\rangle⨂ |1'\\rangle + a₂⋅b₁⋅\n",
       "\n",
       "                                                                              \n",
       "u₁₂⋅u₂₁⋅|1'\\rangle⨂ |2'\\rangle + a₂⋅b₁⋅u₂₁⋅u₂₂⋅|2'\\rangle⨂ |2'\\rangle + b₁⋅b₂⋅\n",
       "\n",
       "   2                                                                          \n",
       "u₁₂ ⋅|1'\\rangle⨂ |1'\\rangle + b₁⋅b₂⋅u₁₂⋅u₂₂⋅|1'\\rangle⨂ |2'\\rangle + b₁⋅b₂⋅u₁₂\n",
       "\n",
       "                                       2                       \n",
       "⋅u₂₂⋅|2'\\rangle⨂ |1'\\rangle + b₁⋅b₂⋅u₂₂ ⋅|2'\\rangle⨂ |2'\\rangle"
      ]
     },
     "execution_count": 14,
     "metadata": {},
     "output_type": "execute_result"
    }
   ],
   "source": [
    "transform=[\n",
    "    (One,u11*OneP+u21*TwoP),\n",
    "    (Two,u12*OneP+u22*TwoP)\n",
    "]\n",
    "transformed=ex(combined.subs(transform))\n",
    "transformed"
   ]
  },
  {
   "cell_type": "markdown",
   "metadata": {},
   "source": [
    "We also want to have the transformed wxpression in terms of the + and - combination"
   ]
  },
  {
   "cell_type": "code",
   "execution_count": 15,
   "metadata": {
    "collapsed": false
   },
   "outputs": [
    {
     "data": {
      "image/png": "[encoded data removed]",
      "text/latex": [
       "$$a_{1} a_{2} u_{11}^{2} {|1'\\rangle}\\otimes {|1'\\rangle} + \\frac{a_{1} a_{2}}{2} \\sqrt{2} u_{11} u_{21} \\left(- MinusP + PlusP\\right) + \\frac{a_{1} a_{2}}{2} \\sqrt{2} u_{11} u_{21} \\left(MinusP + PlusP\\right) + a_{1} a_{2} u_{21}^{2} {|2'\\rangle}\\otimes {|2'\\rangle} + a_{1} b_{2} u_{11} u_{12} {|1'\\rangle}\\otimes {|1'\\rangle} + \\frac{a_{1} b_{2}}{2} \\sqrt{2} u_{11} u_{22} \\left(MinusP + PlusP\\right) + \\frac{a_{1} b_{2}}{2} \\sqrt{2} u_{12} u_{21} \\left(- MinusP + PlusP\\right) + a_{1} b_{2} u_{21} u_{22} {|2'\\rangle}\\otimes {|2'\\rangle} + a_{2} b_{1} u_{11} u_{12} {|1'\\rangle}\\otimes {|1'\\rangle} + \\frac{a_{2} b_{1}}{2} \\sqrt{2} u_{11} u_{22} \\left(- MinusP + PlusP\\right) + \\frac{a_{2} b_{1}}{2} \\sqrt{2} u_{12} u_{21} \\left(MinusP + PlusP\\right) + a_{2} b_{1} u_{21} u_{22} {|2'\\rangle}\\otimes {|2'\\rangle} + b_{1} b_{2} u_{12}^{2} {|1'\\rangle}\\otimes {|1'\\rangle} + \\frac{b_{1} b_{2}}{2} \\sqrt{2} u_{12} u_{22} \\left(- MinusP + PlusP\\right) + \\frac{b_{1} b_{2}}{2} \\sqrt{2} u_{12} u_{22} \\left(MinusP + PlusP\\right) + b_{1} b_{2} u_{22}^{2} {|2'\\rangle}\\otimes {|2'\\rangle}$$"
      ],
      "text/plain": [
       "         2                          √2⋅a₁⋅a₂⋅u₁₁⋅u₂₁⋅(-MinusP + PlusP)   √2⋅a₁\n",
       "a₁⋅a₂⋅u₁₁ ⋅|1'\\rangle⨂ |1'\\rangle + ────────────────────────────────── + ─────\n",
       "                                                    2                         \n",
       "\n",
       "⋅a₂⋅u₁₁⋅u₂₁⋅(MinusP + PlusP)            2                                     \n",
       "──────────────────────────── + a₁⋅a₂⋅u₂₁ ⋅|2'\\rangle⨂ |2'\\rangle + a₁⋅b₂⋅u₁₁⋅u\n",
       "           2                                                                  \n",
       "\n",
       "                            √2⋅a₁⋅b₂⋅u₁₁⋅u₂₂⋅(MinusP + PlusP)   √2⋅a₁⋅b₂⋅u₁₂⋅u\n",
       "₁₂⋅|1'\\rangle⨂ |1'\\rangle + ───────────────────────────────── + ──────────────\n",
       "                                            2                                 \n",
       "\n",
       "₂₁⋅(-MinusP + PlusP)                                                          \n",
       "──────────────────── + a₁⋅b₂⋅u₂₁⋅u₂₂⋅|2'\\rangle⨂ |2'\\rangle + a₂⋅b₁⋅u₁₁⋅u₁₂⋅|1\n",
       "  2                                                                           \n",
       "\n",
       "                       √2⋅a₂⋅b₁⋅u₁₁⋅u₂₂⋅(-MinusP + PlusP)   √2⋅a₂⋅b₁⋅u₁₂⋅u₂₁⋅(\n",
       "'\\rangle⨂ |1'\\rangle + ────────────────────────────────── + ──────────────────\n",
       "                                       2                                    2 \n",
       "\n",
       "MinusP + PlusP)                                                   2           \n",
       "─────────────── + a₂⋅b₁⋅u₂₁⋅u₂₂⋅|2'\\rangle⨂ |2'\\rangle + b₁⋅b₂⋅u₁₂ ⋅|1'\\rangle\n",
       "                                                                              \n",
       "\n",
       "               √2⋅b₁⋅b₂⋅u₁₂⋅u₂₂⋅(-MinusP + PlusP)   √2⋅b₁⋅b₂⋅u₁₂⋅u₂₂⋅(MinusP +\n",
       "⨂ |1'\\rangle + ────────────────────────────────── + ──────────────────────────\n",
       "                               2                                    2         \n",
       "\n",
       " PlusP)            2                       \n",
       "─────── + b₁⋅b₂⋅u₂₂ ⋅|2'\\rangle⨂ |2'\\rangle\n",
       "                                           "
      ]
     },
     "execution_count": 15,
     "metadata": {},
     "output_type": "execute_result"
    }
   ],
   "source": [
    "ruleP=[\n",
    "    (TensorProduct(OneP,TwoP),(PlusP+MinusP)/sympy.sqrt(2)),\n",
    "    (TensorProduct(TwoP,OneP),(PlusP-MinusP)/sympy.sqrt(2))\n",
    "]\n",
    "transformedPM=transformed.subs(ruleP)\n",
    "transformedPM"
   ]
  },
  {
   "cell_type": "markdown",
   "metadata": {},
   "source": [
    "again we want to extract the components in the new basis: "
   ]
  },
  {
   "cell_type": "code",
   "execution_count": 16,
   "metadata": {
    "collapsed": false
   },
   "outputs": [
    {
     "data": {
      "image/png": "[encoded data removed]",
      "text/latex": [
       "$$\\left[\\begin{matrix}a_{1} a_{2} u_{11}^{2} + a_{1} b_{2} u_{11} u_{12} + a_{2} b_{1} u_{11} u_{12} + b_{1} b_{2} u_{12}^{2}\\\\\\sqrt{2} a_{1} a_{2} u_{11} u_{21} + \\frac{a_{1} b_{2}}{2} \\sqrt{2} u_{11} u_{22} + \\frac{a_{1} b_{2}}{2} \\sqrt{2} u_{12} u_{21} + \\frac{a_{2} b_{1}}{2} \\sqrt{2} u_{11} u_{22} + \\frac{a_{2} b_{1}}{2} \\sqrt{2} u_{12} u_{21} + \\sqrt{2} b_{1} b_{2} u_{12} u_{22}\\\\a_{1} a_{2} u_{21}^{2} + a_{1} b_{2} u_{21} u_{22} + a_{2} b_{1} u_{21} u_{22} + b_{1} b_{2} u_{22}^{2}\\\\\\frac{a_{1} b_{2}}{2} \\sqrt{2} u_{11} u_{22} - \\frac{a_{1} b_{2}}{2} \\sqrt{2} u_{12} u_{21} - \\frac{a_{2} b_{1}}{2} \\sqrt{2} u_{11} u_{22} + \\frac{a_{2} b_{1}}{2} \\sqrt{2} u_{12} u_{21}\\end{matrix}\\right]$$"
      ],
      "text/plain": [
       "⎡                                     2                                       \n",
       "⎢                            a₁⋅a₂⋅u₁₁  + a₁⋅b₂⋅u₁₁⋅u₁₂ + a₂⋅b₁⋅u₁₁⋅u₁₂ + b₁⋅b\n",
       "⎢                                                                             \n",
       "⎢                   √2⋅a₁⋅b₂⋅u₁₁⋅u₂₂   √2⋅a₁⋅b₂⋅u₁₂⋅u₂₁   √2⋅a₂⋅b₁⋅u₁₁⋅u₂₂   √\n",
       "⎢√2⋅a₁⋅a₂⋅u₁₁⋅u₂₁ + ──────────────── + ──────────────── + ──────────────── + ─\n",
       "⎢                          2                  2                  2            \n",
       "⎢                                                                             \n",
       "⎢                                     2                                       \n",
       "⎢                            a₁⋅a₂⋅u₂₁  + a₁⋅b₂⋅u₂₁⋅u₂₂ + a₂⋅b₁⋅u₂₁⋅u₂₂ + b₁⋅b\n",
       "⎢                                                                             \n",
       "⎢                   √2⋅a₁⋅b₂⋅u₁₁⋅u₂₂   √2⋅a₁⋅b₂⋅u₁₂⋅u₂₁   √2⋅a₂⋅b₁⋅u₁₁⋅u₂₂   √\n",
       "⎢                   ──────────────── - ──────────────── - ──────────────── + ─\n",
       "⎣                          2                  2                  2            \n",
       "\n",
       "     2                            ⎤\n",
       "₂⋅u₁₂                             ⎥\n",
       "                                  ⎥\n",
       "2⋅a₂⋅b₁⋅u₁₂⋅u₂₁                   ⎥\n",
       "─────────────── + √2⋅b₁⋅b₂⋅u₁₂⋅u₂₂⎥\n",
       "      2                           ⎥\n",
       "                                  ⎥\n",
       "     2                            ⎥\n",
       "₂⋅u₂₂                             ⎥\n",
       "                                  ⎥\n",
       "2⋅a₂⋅b₁⋅u₁₂⋅u₂₁                   ⎥\n",
       "───────────────                   ⎥\n",
       "      2                           ⎦"
      ]
     },
     "execution_count": 16,
     "metadata": {},
     "output_type": "execute_result"
    }
   ],
   "source": [
    "basisP=[\n",
    "    TensorProduct(OneP,OneP),\n",
    "    PlusP,\n",
    "    TensorProduct(TwoP,TwoP),\n",
    "    MinusP\n",
    "]\n",
    "componentsNew=getComponents(transformedPM,basisP)\n",
    "componentsNew"
   ]
  },
  {
   "cell_type": "markdown",
   "metadata": {},
   "source": [
    "This is a bit messy but looks much better if we write the $a_ib_j$ coefficients in terms of the components $c_i$ of the vector in the 4-dimensional space:"
   ]
  },
  {
   "cell_type": "code",
   "execution_count": 17,
   "metadata": {
    "collapsed": false
   },
   "outputs": [
    {
     "data": {
      "image/png": "[encoded data removed]",
      "text/latex": [
       "$$\\left[\\begin{matrix}c_{1} u_{11}^{2} + \\sqrt{2} c_{2} u_{11} u_{12} + c_{3} u_{12}^{2}\\\\\\sqrt{2} c_{1} u_{11} u_{21} + c_{2} u_{11} u_{22} + c_{2} u_{12} u_{21} + \\sqrt{2} c_{3} u_{12} u_{22}\\\\c_{1} u_{21}^{2} + \\sqrt{2} c_{2} u_{21} u_{22} + c_{3} u_{22}^{2}\\\\c_{4} \\left(u_{11} u_{22} - u_{12} u_{21}\\right)\\end{matrix}\\right]$$"
      ],
      "text/plain": [
       "⎡                 2                         2           ⎤\n",
       "⎢           c₁⋅u₁₁  + √2⋅c₂⋅u₁₁⋅u₁₂ + c₃⋅u₁₂            ⎥\n",
       "⎢                                                       ⎥\n",
       "⎢√2⋅c₁⋅u₁₁⋅u₂₁ + c₂⋅u₁₁⋅u₂₂ + c₂⋅u₁₂⋅u₂₁ + √2⋅c₃⋅u₁₂⋅u₂₂⎥\n",
       "⎢                                                       ⎥\n",
       "⎢                 2                         2           ⎥\n",
       "⎢           c₁⋅u₂₁  + √2⋅c₂⋅u₂₁⋅u₂₂ + c₃⋅u₂₂            ⎥\n",
       "⎢                                                       ⎥\n",
       "⎣                c₄⋅(u₁₁⋅u₂₂ - u₁₂⋅u₂₁)                 ⎦"
      ]
     },
     "execution_count": 17,
     "metadata": {},
     "output_type": "execute_result"
    }
   ],
   "source": [
    "componentsNew=simplify(componentsNew.subs(abTOc))\n",
    "componentsNew"
   ]
  },
  {
   "cell_type": "markdown",
   "metadata": {},
   "source": [
    "We can express the new result in terms of a matrix multiplying the old components"
   ]
  },
  {
   "cell_type": "code",
   "execution_count": 18,
   "metadata": {
    "collapsed": false
   },
   "outputs": [
    {
     "data": {
      "image/png": "[encoded data removed]",
      "text/latex": [
       "$$\\left[\\begin{matrix}u_{11}^{2} & \\sqrt{2} u_{11} u_{12} & u_{12}^{2} & 0\\\\\\sqrt{2} u_{11} u_{21} & u_{11} u_{22} + u_{12} u_{21} & \\sqrt{2} u_{12} u_{22} & 0\\\\u_{21}^{2} & \\sqrt{2} u_{21} u_{22} & u_{22}^{2} & 0\\\\0 & 0 & 0 & u_{11} u_{22} - u_{12} u_{21}\\end{matrix}\\right]$$"
      ],
      "text/plain": [
       "⎡      2                              2                      ⎤\n",
       "⎢   u₁₁         √2⋅u₁₁⋅u₁₂         u₁₂              0        ⎥\n",
       "⎢                                                            ⎥\n",
       "⎢√2⋅u₁₁⋅u₂₁  u₁₁⋅u₂₂ + u₁₂⋅u₂₁  √2⋅u₁₂⋅u₂₂          0        ⎥\n",
       "⎢                                                            ⎥\n",
       "⎢      2                              2                      ⎥\n",
       "⎢   u₂₁         √2⋅u₂₁⋅u₂₂         u₂₂              0        ⎥\n",
       "⎢                                                            ⎥\n",
       "⎣    0               0              0       u₁₁⋅u₂₂ - u₁₂⋅u₂₁⎦"
      ]
     },
     "execution_count": 18,
     "metadata": {},
     "output_type": "execute_result"
    }
   ],
   "source": [
    "U=Matrix([[comp.coeff(cc) for cc in [c1,c2,c3,c4]] for comp in componentsNew])\n",
    "U"
   ]
  },
  {
   "cell_type": "markdown",
   "metadata": {},
   "source": [
    "We can check that this is indeed the right matrix"
   ]
  },
  {
   "cell_type": "code",
   "execution_count": 19,
   "metadata": {
    "collapsed": false
   },
   "outputs": [
    {
     "name": "stdout",
     "output_type": "stream",
     "text": [
      "True\n"
     ]
    }
   ],
   "source": [
    "pprint(simplify(U*Matrix([[c1],[c2],[c3],[c4]])-componentsNew)==Matrix([[0],[0],[0],[0]]))"
   ]
  },
  {
   "cell_type": "markdown",
   "metadata": {},
   "source": [
    "In this matrix we can now identify the three first lines and columns forming one block of states transforming into each other: the triplet, and a state on its own: the singlet. The factor multiplying it in the matrix is equal to the determinant of the transformation matrix $U$ which we know is $1$"
   ]
  },
  {
   "cell_type": "code",
   "execution_count": 20,
   "metadata": {
    "collapsed": false
   },
   "outputs": [
    {
     "data": {
      "image/png": "[encoded data removed]",
      "text/latex": [
       "$$\\left[\\begin{matrix}u_{11}^{2} & \\sqrt{2} u_{11} u_{12} & u_{12}^{2} & 0\\\\\\sqrt{2} u_{11} u_{21} & u_{11} u_{22} + u_{12} u_{21} & \\sqrt{2} u_{12} u_{22} & 0\\\\u_{21}^{2} & \\sqrt{2} u_{21} u_{22} & u_{22}^{2} & 0\\\\0 & 0 & 0 & 1\\end{matrix}\\right]$$"
      ],
      "text/plain": [
       "⎡      2                              2      ⎤\n",
       "⎢   u₁₁         √2⋅u₁₁⋅u₁₂         u₁₂      0⎥\n",
       "⎢                                            ⎥\n",
       "⎢√2⋅u₁₁⋅u₂₁  u₁₁⋅u₂₂ + u₁₂⋅u₂₁  √2⋅u₁₂⋅u₂₂  0⎥\n",
       "⎢                                            ⎥\n",
       "⎢      2                              2      ⎥\n",
       "⎢   u₂₁         √2⋅u₂₁⋅u₂₂         u₂₂      0⎥\n",
       "⎢                                            ⎥\n",
       "⎣    0               0              0       1⎦"
      ]
     },
     "execution_count": 20,
     "metadata": {},
     "output_type": "execute_result"
    }
   ],
   "source": [
    "U.subs(u11*u22-u12*u21,1)"
   ]
  },
  {
   "cell_type": "markdown",
   "metadata": {},
   "source": [
    "# Spin 1/2"
   ]
  },
  {
   "cell_type": "markdown",
   "metadata": {},
   "source": [
    "Spin 1/2 particles are an example of SU(2) symmetry. We have two spin states, normally called \"spin up\" and \"spin down\" in one basis. "
   ]
  },
  {
   "cell_type": "markdown",
   "metadata": {},
   "source": [
    "These are the spin operators:"
   ]
  },
  {
   "cell_type": "code",
   "execution_count": 21,
   "metadata": {
    "collapsed": false
   },
   "outputs": [
    {
     "data": {
      "image/png": "[encoded data removed]",
      "text/latex": [
       "$$\\left ( \\left[\\begin{matrix}0 & \\frac{1}{2}\\\\\\frac{1}{2} & 0\\end{matrix}\\right], \\quad \\left[\\begin{matrix}0 & - \\frac{i}{2}\\\\\\frac{i}{2} & 0\\end{matrix}\\right], \\quad \\left[\\begin{matrix}\\frac{1}{2} & 0\\\\0 & - \\frac{1}{2}\\end{matrix}\\right]\\right )$$"
      ],
      "text/plain": [
       "⎛            ⎡   -ⅈ ⎤             ⎞\n",
       "⎜⎡ 0   1/2⎤, ⎢0  ───⎥, ⎡1/2   0  ⎤⎟\n",
       "⎜⎢        ⎥  ⎢    2 ⎥  ⎢         ⎥⎟\n",
       "⎜⎣1/2   0 ⎦  ⎢      ⎥  ⎣ 0   -1/2⎦⎟\n",
       "⎜            ⎢ⅈ     ⎥             ⎟\n",
       "⎜            ⎢─   0 ⎥             ⎟\n",
       "⎝            ⎣2     ⎦             ⎠"
      ]
     },
     "execution_count": 21,
     "metadata": {},
     "output_type": "execute_result"
    }
   ],
   "source": [
    "ii=Matrix([[1,0],[0,1]])\n",
    "s1=Matrix([[0,1],[1,0]])/2\n",
    "s2=Matrix([[0,-I],[I,0]])/2\n",
    "s3=Matrix([[1,0],[0,-1]])/2\n",
    "s1,s2,s3"
   ]
  },
  {
   "cell_type": "markdown",
   "metadata": {},
   "source": [
    "We now consider a system with two spin 1/2 particles, the components of the total spin are given by the sum of the spin operator applied to each individual spin state\n",
    "\n",
    "$J(\\psi_1\\otimes \\psi_2) = (S_1 \\psi)\\otimes \\psi_2 + \\psi_1\\otimes (S_2\\psi_2)$\n",
    "\n",
    "this can be written as one operator acting on the tensor product state: \n",
    "\n",
    "$J(\\psi_1\\otimes \\psi_2) =\\left(S_1 \\otimes \\mathbf{1} + \\mathbf{1}\\otimes S2\\right) (\\psi_1\\otimes \\psi_2)$\n",
    "\n",
    "where $\\mathbf{1}$ is the identity matrix.\n"
   ]
  },
  {
   "cell_type": "code",
   "execution_count": 22,
   "metadata": {
    "collapsed": true
   },
   "outputs": [],
   "source": [
    "Jx= TensorProduct(ii,s1)+TensorProduct(s1,ii)\n",
    "Jy= TensorProduct(ii,s2)+TensorProduct(s2,ii)\n",
    "Jz= TensorProduct(ii,s3)+TensorProduct(s3,ii)"
   ]
  },
  {
   "cell_type": "markdown",
   "metadata": {},
   "source": [
    "The operator $J^2$ is given by\n",
    "$J^2=J_x^2+J_y^2+J_z^2$"
   ]
  },
  {
   "cell_type": "code",
   "execution_count": 23,
   "metadata": {
    "collapsed": false
   },
   "outputs": [
    {
     "data": {
      "image/png": "[encoded data removed]",
      "text/latex": [
       "$$\\left[\\begin{matrix}2 & 0 & 0 & 0\\\\0 & 1 & 1 & 0\\\\0 & 1 & 1 & 0\\\\0 & 0 & 0 & 2\\end{matrix}\\right]$$"
      ],
      "text/plain": [
       "⎡2  0  0  0⎤\n",
       "⎢          ⎥\n",
       "⎢0  1  1  0⎥\n",
       "⎢          ⎥\n",
       "⎢0  1  1  0⎥\n",
       "⎢          ⎥\n",
       "⎣0  0  0  2⎦"
      ]
     },
     "execution_count": 23,
     "metadata": {},
     "output_type": "execute_result"
    }
   ],
   "source": [
    "JJ=Jx**2+Jy**2+Jz**2\n",
    "JJ"
   ]
  },
  {
   "cell_type": "markdown",
   "metadata": {},
   "source": [
    "We want to find a basis where $J^2$ and $J_z$ are diagonal:"
   ]
  },
  {
   "cell_type": "code",
   "execution_count": 24,
   "metadata": {
    "collapsed": false
   },
   "outputs": [
    {
     "data": {
      "image/png": "[encoded data removed]",
      "text/latex": [
       "$$\\left ( \\left[\\begin{matrix}0 & 0 & 0 & 0\\\\0 & 2 & 0 & 0\\\\0 & 0 & 2 & 0\\\\0 & 0 & 0 & 2\\end{matrix}\\right], \\quad \\left[\\begin{matrix}0 & 0 & 0 & 0\\\\0 & -1 & 0 & 0\\\\0 & 0 & 0 & 0\\\\0 & 0 & 0 & 1\\end{matrix}\\right]\\right )$$"
      ],
      "text/plain": [
       "⎛⎡0  0  0  0⎤, ⎡0  0   0  0⎤⎞\n",
       "⎜⎢          ⎥  ⎢           ⎥⎟\n",
       "⎜⎢0  2  0  0⎥  ⎢0  -1  0  0⎥⎟\n",
       "⎜⎢          ⎥  ⎢           ⎥⎟\n",
       "⎜⎢0  0  2  0⎥  ⎢0  0   0  0⎥⎟\n",
       "⎜⎢          ⎥  ⎢           ⎥⎟\n",
       "⎝⎣0  0  0  2⎦  ⎣0  0   0  1⎦⎠"
      ]
     },
     "execution_count": 24,
     "metadata": {},
     "output_type": "execute_result"
    }
   ],
   "source": [
    "SS=findBasis(JJ,Jz)\n",
    "SS.inv()*JJ*SS,SS.inv()*Jz*SS"
   ]
  },
  {
   "cell_type": "markdown",
   "metadata": {},
   "source": [
    "The components of the basis vector are given by the columns of the matrix $SS$"
   ]
  },
  {
   "cell_type": "code",
   "execution_count": 25,
   "metadata": {
    "collapsed": false
   },
   "outputs": [
    {
     "data": {
      "image/png": "[encoded data removed]",
      "text/latex": [
       "$$\\left[\\begin{matrix}0 & 0 & 0 & 1\\\\- \\frac{\\sqrt{2}}{2} & 0 & \\frac{\\sqrt{2}}{2} & 0\\\\\\frac{\\sqrt{2}}{2} & 0 & \\frac{\\sqrt{2}}{2} & 0\\\\0 & 1 & 0 & 0\\end{matrix}\\right]$$"
      ],
      "text/plain": [
       "⎡ 0    0  0   1⎤\n",
       "⎢              ⎥\n",
       "⎢-√2      √2   ⎥\n",
       "⎢────  0  ──  0⎥\n",
       "⎢ 2       2    ⎥\n",
       "⎢              ⎥\n",
       "⎢ √2      √2   ⎥\n",
       "⎢ ──   0  ──  0⎥\n",
       "⎢ 2       2    ⎥\n",
       "⎢              ⎥\n",
       "⎣ 0    1  0   0⎦"
      ]
     },
     "execution_count": 25,
     "metadata": {},
     "output_type": "execute_result"
    }
   ],
   "source": [
    "SS"
   ]
  },
  {
   "cell_type": "markdown",
   "metadata": {},
   "source": [
    "We see that the first eigenvector is the antisymmetric combination of $\\uparrow\\downarrow$ and $\\downarrow\\uparrow$  "
   ]
  },
  {
   "cell_type": "markdown",
   "metadata": {},
   "source": [
    "We can see that the basis where $J^2$ is diagonal is the basis where the transformation behaviour is split into one singlet and a triplet state:"
   ]
  },
  {
   "cell_type": "code",
   "execution_count": 26,
   "metadata": {
    "collapsed": false
   },
   "outputs": [
    {
     "data": {
      "image/png": "[encoded data removed]",
      "text/latex": [
       "$$\\left[\\begin{matrix}u_{11} u_{22} - u_{12} u_{21} & 0 & 0 & 0\\\\0 & u_{22}^{2} & \\sqrt{2} u_{21} u_{22} & u_{21}^{2}\\\\0 & \\sqrt{2} u_{12} u_{22} & u_{11} u_{22} + u_{12} u_{21} & \\sqrt{2} u_{11} u_{21}\\\\0 & u_{12}^{2} & \\sqrt{2} u_{11} u_{12} & u_{11}^{2}\\end{matrix}\\right]$$"
      ],
      "text/plain": [
       "⎡u₁₁⋅u₂₂ - u₁₂⋅u₂₁      0               0              0     ⎤\n",
       "⎢                                                            ⎥\n",
       "⎢                         2                              2   ⎥\n",
       "⎢        0             u₂₂         √2⋅u₂₁⋅u₂₂         u₂₁    ⎥\n",
       "⎢                                                            ⎥\n",
       "⎢        0          √2⋅u₁₂⋅u₂₂  u₁₁⋅u₂₂ + u₁₂⋅u₂₁  √2⋅u₁₁⋅u₂₁⎥\n",
       "⎢                                                            ⎥\n",
       "⎢                         2                              2   ⎥\n",
       "⎣        0             u₁₂         √2⋅u₁₁⋅u₁₂         u₁₁    ⎦"
      ]
     },
     "execution_count": 26,
     "metadata": {},
     "output_type": "execute_result"
    }
   ],
   "source": [
    "U=Matrix([[u11,u12],[u21,u22]])\n",
    "UU=TensorProduct(U,U)\n",
    "simplify(SS**-1 * UU *SS)"
   ]
  },
  {
   "cell_type": "markdown",
   "metadata": {},
   "source": [
    "the top left component is 1 again if the transformation is from $SU(2)$"
   ]
  },
  {
   "cell_type": "markdown",
   "metadata": {},
   "source": [
    "We can do the same if we choose the $x$ axis as quantisation axis:"
   ]
  },
  {
   "cell_type": "code",
   "execution_count": 27,
   "metadata": {
    "collapsed": false
   },
   "outputs": [
    {
     "data": {
      "image/png": "[encoded data removed]",
      "text/latex": [
       "$$\\left ( \\left[\\begin{matrix}0 & 0 & 0 & 0\\\\0 & 2 & 0 & 0\\\\0 & 0 & 2 & 0\\\\0 & 0 & 0 & 2\\end{matrix}\\right], \\quad \\left[\\begin{matrix}0 & 0 & 0 & 0\\\\0 & -1 & 0 & 0\\\\0 & 0 & 0 & 0\\\\0 & 0 & 0 & 1\\end{matrix}\\right]\\right )$$"
      ],
      "text/plain": [
       "⎛⎡0  0  0  0⎤, ⎡0  0   0  0⎤⎞\n",
       "⎜⎢          ⎥  ⎢           ⎥⎟\n",
       "⎜⎢0  2  0  0⎥  ⎢0  -1  0  0⎥⎟\n",
       "⎜⎢          ⎥  ⎢           ⎥⎟\n",
       "⎜⎢0  0  2  0⎥  ⎢0  0   0  0⎥⎟\n",
       "⎜⎢          ⎥  ⎢           ⎥⎟\n",
       "⎝⎣0  0  0  2⎦  ⎣0  0   0  1⎦⎠"
      ]
     },
     "execution_count": 27,
     "metadata": {},
     "output_type": "execute_result"
    }
   ],
   "source": [
    "SS=findBasis(JJ,Jx)\n",
    "SS.inv()*JJ*SS,SS.inv()*Jx*SS"
   ]
  },
  {
   "cell_type": "markdown",
   "metadata": {},
   "source": [
    "The basis has the same anti-symmetric combination for the singlet, but has different combinations for the triplet."
   ]
  },
  {
   "cell_type": "code",
   "execution_count": 28,
   "metadata": {
    "collapsed": false
   },
   "outputs": [
    {
     "data": {
      "image/png": "[encoded data removed]",
      "text/latex": [
       "$$\\left[\\begin{matrix}0 & \\frac{1}{2} & - \\frac{\\sqrt{2}}{2} & \\frac{1}{2}\\\\- \\frac{\\sqrt{2}}{2} & - \\frac{1}{2} & 0 & \\frac{1}{2}\\\\\\frac{\\sqrt{2}}{2} & - \\frac{1}{2} & 0 & \\frac{1}{2}\\\\0 & \\frac{1}{2} & \\frac{\\sqrt{2}}{2} & \\frac{1}{2}\\end{matrix}\\right]$$"
      ],
      "text/plain": [
       "⎡            -√2      ⎤\n",
       "⎢ 0    1/2   ────  1/2⎥\n",
       "⎢             2       ⎥\n",
       "⎢                     ⎥\n",
       "⎢-√2                  ⎥\n",
       "⎢────  -1/2   0    1/2⎥\n",
       "⎢ 2                   ⎥\n",
       "⎢                     ⎥\n",
       "⎢ √2                  ⎥\n",
       "⎢ ──   -1/2   0    1/2⎥\n",
       "⎢ 2                   ⎥\n",
       "⎢                     ⎥\n",
       "⎢             √2      ⎥\n",
       "⎢ 0    1/2    ──   1/2⎥\n",
       "⎣             2       ⎦"
      ]
     },
     "execution_count": 28,
     "metadata": {},
     "output_type": "execute_result"
    }
   ],
   "source": [
    "SS"
   ]
  },
  {
   "cell_type": "markdown",
   "metadata": {},
   "source": [
    "# 3 Spin 1/2 particles "
   ]
  },
  {
   "cell_type": "markdown",
   "metadata": {},
   "source": [
    "We can do the same for the combination of 3 spin $1/2$ states. We define the total spin as the sum of the spin on the individual states."
   ]
  },
  {
   "cell_type": "code",
   "execution_count": 29,
   "metadata": {
    "collapsed": true
   },
   "outputs": [],
   "source": [
    "J1x=TensorProduct(s1,ii,ii)\n",
    "J2x=TensorProduct(ii,s1,ii)\n",
    "J3x=TensorProduct(ii,ii,s1)\n",
    "J1y=TensorProduct(s2,ii,ii)\n",
    "J2y=TensorProduct(ii,s2,ii)\n",
    "J3y=TensorProduct(ii,ii,s2)\n",
    "J1z=TensorProduct(s3,ii,ii)\n",
    "J2z=TensorProduct(ii,s3,ii)\n",
    "J3z=TensorProduct(ii,ii,s3)\n",
    "\n",
    "Jx=J1x+J2x+J3x\n",
    "Jy=J1y+J2y+J3y\n",
    "Jz=J1z+J2z+J3z\n",
    "\n",
    "J2=Jx**2+Jy**2+Jz**2"
   ]
  },
  {
   "cell_type": "markdown",
   "metadata": {},
   "source": [
    "We can also define the spin of the combination of 2 out of the 3 spins "
   ]
  },
  {
   "cell_type": "code",
   "execution_count": 30,
   "metadata": {
    "collapsed": true
   },
   "outputs": [],
   "source": [
    "J12x=J1x+J2x\n",
    "J12y=J1y+J2y\n",
    "J12z=J1z+J2z\n",
    "\n",
    "J13x=J1x+J3x\n",
    "J13y=J1y+J3y\n",
    "J13z=J1z+J3z\n",
    "\n",
    "J23x=J2x+J3x\n",
    "J23y=J2y+J3y\n",
    "J23z=J2z+J3z\n",
    "\n",
    "J122=J12x**2+J12y**2+J12z**2\n",
    "J132=J13x**2+J13y**2+J13z**2\n",
    "J232=J23x**2+J23y**2+J23z**2"
   ]
  },
  {
   "cell_type": "markdown",
   "metadata": {},
   "source": [
    "First we find the basis in which $J^2$, $J_{12}^2$ and $J_z$ are diagonal"
   ]
  },
  {
   "cell_type": "code",
   "execution_count": 31,
   "metadata": {
    "collapsed": true
   },
   "outputs": [],
   "source": [
    "SS=findBasis(J2,J122,Jz)"
   ]
  },
  {
   "cell_type": "markdown",
   "metadata": {},
   "source": [
    "To see what happens we can see what the $SU(2)$ transformation of each spin looks like in this basis "
   ]
  },
  {
   "cell_type": "code",
   "execution_count": 32,
   "metadata": {
    "collapsed": false
   },
   "outputs": [
    {
     "data": {
      "image/png": "[encoded data removed]",
      "text/latex": [
       "$$\\left[\\begin{matrix}u_{22} & u_{21} & 0 & 0 & 0 & 0 & 0 & 0\\\\u_{12} & u_{11} & 0 & 0 & 0 & 0 & 0 & 0\\\\0 & 0 & u_{22} & u_{21} & 0 & 0 & 0 & 0\\\\0 & 0 & u_{12} & u_{11} & 0 & 0 & 0 & 0\\\\0 & 0 & 0 & 0 & u_{22}^{3} & \\sqrt{3} u_{21} u_{22}^{2} & \\sqrt{3} u_{21}^{2} u_{22} & u_{21}^{3}\\\\0 & 0 & 0 & 0 & \\sqrt{3} u_{12} u_{22}^{2} & u_{22} \\left(u_{11} u_{22} + 2 u_{12} u_{21}\\right) & u_{21} \\left(2 u_{11} u_{22} + u_{12} u_{21}\\right) & \\sqrt{3} u_{11} u_{21}^{2}\\\\0 & 0 & 0 & 0 & \\sqrt{3} u_{12}^{2} u_{22} & u_{12} \\left(2 u_{11} u_{22} + u_{12} u_{21}\\right) & u_{11} \\left(u_{11} u_{22} + 2 u_{12} u_{21}\\right) & \\sqrt{3} u_{11}^{2} u_{21}\\\\0 & 0 & 0 & 0 & u_{12}^{3} & \\sqrt{3} u_{11} u_{12}^{2} & \\sqrt{3} u_{11}^{2} u_{12} & u_{11}^{3}\\end{matrix}\\right]$$"
      ],
      "text/plain": [
       "⎡u₂₂  u₂₁   0    0        0                   0                          0    \n",
       "⎢                                                                             \n",
       "⎢u₁₂  u₁₁   0    0        0                   0                          0    \n",
       "⎢                                                                             \n",
       "⎢ 0    0   u₂₂  u₂₁       0                   0                          0    \n",
       "⎢                                                                             \n",
       "⎢ 0    0   u₁₂  u₁₁       0                   0                          0    \n",
       "⎢                                                                             \n",
       "⎢                          3                       2                      2   \n",
       "⎢ 0    0    0    0      u₂₂              √3⋅u₂₁⋅u₂₂                 √3⋅u₂₁ ⋅u₂\n",
       "⎢                                                                             \n",
       "⎢                              2                                              \n",
       "⎢ 0    0    0    0   √3⋅u₁₂⋅u₂₂   u₂₂⋅(u₁₁⋅u₂₂ + 2⋅u₁₂⋅u₂₁)  u₂₁⋅(2⋅u₁₁⋅u₂₂ + \n",
       "⎢                                                                             \n",
       "⎢                          2                                                  \n",
       "⎢ 0    0    0    0   √3⋅u₁₂ ⋅u₂₂  u₁₂⋅(2⋅u₁₁⋅u₂₂ + u₁₂⋅u₂₁)  u₁₁⋅(u₁₁⋅u₂₂ + 2⋅\n",
       "⎢                                                                             \n",
       "⎢                          3                       2                      2   \n",
       "⎣ 0    0    0    0      u₁₂              √3⋅u₁₁⋅u₁₂                 √3⋅u₁₁ ⋅u₁\n",
       "\n",
       "               0     ⎤\n",
       "                     ⎥\n",
       "               0     ⎥\n",
       "                     ⎥\n",
       "               0     ⎥\n",
       "                     ⎥\n",
       "               0     ⎥\n",
       "                     ⎥\n",
       "                3    ⎥\n",
       "₂            u₂₁     ⎥\n",
       "                     ⎥\n",
       "                    2⎥\n",
       "u₁₂⋅u₂₁)  √3⋅u₁₁⋅u₂₁ ⎥\n",
       "                     ⎥\n",
       "                2    ⎥\n",
       "u₁₂⋅u₂₁)  √3⋅u₁₁ ⋅u₂₁⎥\n",
       "                     ⎥\n",
       "                3    ⎥\n",
       "₂            u₁₁     ⎦"
      ]
     },
     "execution_count": 32,
     "metadata": {},
     "output_type": "execute_result"
    }
   ],
   "source": [
    "UU=TensorProduct(U,U,U)\n",
    "di=simplify(SS**-1 * UU *SS)\n",
    "di=simplify(di.subs(u11*u22-u12*u21,1))\n",
    "di"
   ]
  },
  {
   "cell_type": "markdown",
   "metadata": {},
   "source": [
    "We can identify two blocks of 2 states that transform together, and we can recognize that the transformation is the original transformation on one single spin $1/2$ state, and we see a block of 4 states that transform together. To help identify these blocks we can look at the value of the operators in the diagonal basis:"
   ]
  },
  {
   "cell_type": "code",
   "execution_count": 33,
   "metadata": {
    "collapsed": false
   },
   "outputs": [
    {
     "data": {
      "image/png": "[encoded data removed]",
      "text/latex": [
       "$$\\left[\\begin{matrix}\\frac{3}{4} & 0 & 0 & 0 & 0 & 0 & 0 & 0\\\\0 & \\frac{3}{4} & 0 & 0 & 0 & 0 & 0 & 0\\\\0 & 0 & \\frac{3}{4} & 0 & 0 & 0 & 0 & 0\\\\0 & 0 & 0 & \\frac{3}{4} & 0 & 0 & 0 & 0\\\\0 & 0 & 0 & 0 & \\frac{15}{4} & 0 & 0 & 0\\\\0 & 0 & 0 & 0 & 0 & \\frac{15}{4} & 0 & 0\\\\0 & 0 & 0 & 0 & 0 & 0 & \\frac{15}{4} & 0\\\\0 & 0 & 0 & 0 & 0 & 0 & 0 & \\frac{15}{4}\\end{matrix}\\right]$$"
      ],
      "text/plain": [
       "⎡3/4   0    0    0    0     0     0     0  ⎤\n",
       "⎢                                          ⎥\n",
       "⎢ 0   3/4   0    0    0     0     0     0  ⎥\n",
       "⎢                                          ⎥\n",
       "⎢ 0    0   3/4   0    0     0     0     0  ⎥\n",
       "⎢                                          ⎥\n",
       "⎢ 0    0    0   3/4   0     0     0     0  ⎥\n",
       "⎢                                          ⎥\n",
       "⎢ 0    0    0    0   15/4   0     0     0  ⎥\n",
       "⎢                                          ⎥\n",
       "⎢ 0    0    0    0    0    15/4   0     0  ⎥\n",
       "⎢                                          ⎥\n",
       "⎢ 0    0    0    0    0     0    15/4   0  ⎥\n",
       "⎢                                          ⎥\n",
       "⎣ 0    0    0    0    0     0     0    15/4⎦"
      ]
     },
     "execution_count": 33,
     "metadata": {},
     "output_type": "execute_result"
    }
   ],
   "source": [
    "SS.inv()*J2*SS"
   ]
  },
  {
   "cell_type": "markdown",
   "metadata": {},
   "source": [
    "We see that the total spin of the states in the two upper blocks is $1/2$ (because $1/2(1/2+1)=3/4$) and the total spin of the lowerr state is $3/2$ (because $3/2(3/2+1)=15/4$). We can look at the total spin of the first and second spin:"
   ]
  },
  {
   "cell_type": "code",
   "execution_count": 34,
   "metadata": {
    "collapsed": false
   },
   "outputs": [
    {
     "data": {
      "image/png": "[encoded data removed]",
      "text/latex": [
       "$$\\left[\\begin{matrix}0 & 0 & 0 & 0 & 0 & 0 & 0 & 0\\\\0 & 0 & 0 & 0 & 0 & 0 & 0 & 0\\\\0 & 0 & 2 & 0 & 0 & 0 & 0 & 0\\\\0 & 0 & 0 & 2 & 0 & 0 & 0 & 0\\\\0 & 0 & 0 & 0 & 2 & 0 & 0 & 0\\\\0 & 0 & 0 & 0 & 0 & 2 & 0 & 0\\\\0 & 0 & 0 & 0 & 0 & 0 & 2 & 0\\\\0 & 0 & 0 & 0 & 0 & 0 & 0 & 2\\end{matrix}\\right]$$"
      ],
      "text/plain": [
       "⎡0  0  0  0  0  0  0  0⎤\n",
       "⎢                      ⎥\n",
       "⎢0  0  0  0  0  0  0  0⎥\n",
       "⎢                      ⎥\n",
       "⎢0  0  2  0  0  0  0  0⎥\n",
       "⎢                      ⎥\n",
       "⎢0  0  0  2  0  0  0  0⎥\n",
       "⎢                      ⎥\n",
       "⎢0  0  0  0  2  0  0  0⎥\n",
       "⎢                      ⎥\n",
       "⎢0  0  0  0  0  2  0  0⎥\n",
       "⎢                      ⎥\n",
       "⎢0  0  0  0  0  0  2  0⎥\n",
       "⎢                      ⎥\n",
       "⎣0  0  0  0  0  0  0  2⎦"
      ]
     },
     "execution_count": 34,
     "metadata": {},
     "output_type": "execute_result"
    }
   ],
   "source": [
    "SS.inv()*J122*SS"
   ]
  },
  {
   "cell_type": "markdown",
   "metadata": {},
   "source": [
    "We see that the first block has total spin between the first two states is $0$, the seccond group of two states has spin $1$  (because $1(1+1)=2$) between the first two states. The block of four state has spin $1$ between the two first states. We can also get the $z$ component of the states:  "
   ]
  },
  {
   "cell_type": "code",
   "execution_count": 35,
   "metadata": {
    "collapsed": false
   },
   "outputs": [
    {
     "name": "stdout",
     "output_type": "stream",
     "text": [
      "⎡-1/2   0    0     0    0     0     0    0 ⎤\n",
      "⎢                                          ⎥\n",
      "⎢ 0    1/2   0     0    0     0     0    0 ⎥\n",
      "⎢                                          ⎥\n",
      "⎢ 0     0   -1/2   0    0     0     0    0 ⎥\n",
      "⎢                                          ⎥\n",
      "⎢ 0     0    0    1/2   0     0     0    0 ⎥\n",
      "⎢                                          ⎥\n",
      "⎢ 0     0    0     0   -3/2   0     0    0 ⎥\n",
      "⎢                                          ⎥\n",
      "⎢ 0     0    0     0    0    -1/2   0    0 ⎥\n",
      "⎢                                          ⎥\n",
      "⎢ 0     0    0     0    0     0    1/2   0 ⎥\n",
      "⎢                                          ⎥\n",
      "⎣ 0     0    0     0    0     0     0   3/2⎦\n"
     ]
    }
   ],
   "source": [
    "pprint(SS.inv()*Jz*SS)"
   ]
  },
  {
   "cell_type": "markdown",
   "metadata": {},
   "source": [
    "# SU(3)"
   ]
  },
  {
   "cell_type": "markdown",
   "metadata": {},
   "source": [
    "Now we consider the group of transformation of three objects instead of two. The equivalent to the pauli matrices for this group are the Gell-Mann matrices "
   ]
  },
  {
   "cell_type": "code",
   "execution_count": 36,
   "metadata": {
    "collapsed": false
   },
   "outputs": [],
   "source": [
    "iii=Matrix([[1,0,0],[0,1,0],[0,0,1]])\n",
    "gellmann=[\n",
    "    Matrix([[0,1,0],[1,0,0],[0,0,0]]),\n",
    "    Matrix([[0,-I,0],[I,0,0],[0,0,0]]),\n",
    "    Matrix([[1,0,0],[0,-1,0],[0,0,0]]),\n",
    "    Matrix([[0,0,1],[0,0,0],[1,0,0]]),\n",
    "    Matrix([[0,0,-I],[0,0,0],[I,0,0]]),\n",
    "    Matrix([[0,0,0],[0,0,1],[0,1,0]]),\n",
    "    Matrix([[0,0,0],[0,0,-I],[0,I,0]]),\n",
    "    1/sympy.sqrt(3)*Matrix([[1,0,0],[0,1,0],[0,0,-2]])\n",
    "]\n",
    "gs=[g/2 for g in gellmann]"
   ]
  },
  {
   "cell_type": "markdown",
   "metadata": {},
   "source": [
    "We want to look at the combination of a set of 3 states and a set of complex conjugated states. The first is transformed by a matrix $U$ and the second by the its hermitian conjugate. Since we want the transformation to be unitary we have \n",
    "\n",
    "$UU^+=1 \\quad\\Rightarrow\\quad U^{-1}=U^+$\n",
    "\n",
    "and we restrict the transformation to those for which $\\det U=1$ because we are not interested in pure phase transformations."
   ]
  },
  {
   "cell_type": "code",
   "execution_count": 37,
   "metadata": {
    "collapsed": true
   },
   "outputs": [],
   "source": [
    "U=Matrix([[u11,u12,u13],[u21,u22,u23],[u31,u32,u33]])\n",
    "det=U.det()    \n",
    "Ubar=simplify(det*U**-1)  # I can multiply by the determinant because it is one\n",
    "Ubar=Matrix(Ubar)  # needed so the matrix is not immutable"
   ]
  },
  {
   "cell_type": "markdown",
   "metadata": {},
   "source": [
    "The equivalent of the $\\vec J$ operator in the spin for $SU(3)$ is given by the vector whose components are the gell-Mann matrices. We can use the square of this vector to help find a basis that makes the transformation behaviour of the combination explicit  "
   ]
  },
  {
   "cell_type": "code",
   "execution_count": 38,
   "metadata": {
    "collapsed": false
   },
   "outputs": [],
   "source": [
    "FF=__builtin__.sum([TensorProduct(g,g.conjugate()) for g in gs],sympy.zeros(9))\n",
    "SS=findBasis(FF)"
   ]
  },
  {
   "cell_type": "markdown",
   "metadata": {},
   "source": [
    "We can now see the form of the transformation matrix for the tensor state. It is a bit ugly but we see that we get a block of eight states that transform into each other and one single state that is invariant."
   ]
  },
  {
   "cell_type": "code",
   "execution_count": 39,
   "metadata": {
    "collapsed": false,
    "scrolled": true
   },
   "outputs": [
    {
     "data": {
      "image/png": "[encoded data removed]",
      "text/latex": [
       "$$\\left[\\begin{matrix}u_{11}^{2} u_{33} - u_{11} u_{13} u_{31} & - u_{11}^{2} u_{32} + u_{11} u_{12} u_{31} & - u_{12}^{2} u_{33} + u_{12} u_{13} u_{32} & \\sqrt{2} u_{11} u_{12} u_{33} - \\frac{u_{11} u_{13}}{2} \\sqrt{2} u_{32} - \\frac{u_{12} u_{13}}{2} \\sqrt{2} u_{31} & - u_{11} u_{12} u_{32} + u_{12}^{2} u_{31} & - u_{12} u_{13} u_{33} + u_{13}^{2} u_{32} & u_{11} u_{13} u_{33} - u_{13}^{2} u_{31} & - \\frac{u_{11} u_{13}}{2} \\sqrt{6} u_{32} + \\frac{u_{12} u_{13}}{2} \\sqrt{6} u_{31} & 0\\\\- u_{11}^{2} u_{23} + u_{11} u_{13} u_{21} & u_{11}^{2} u_{22} - u_{11} u_{12} u_{21} & u_{12}^{2} u_{23} - u_{12} u_{13} u_{22} & - \\sqrt{2} u_{11} u_{12} u_{23} + \\frac{u_{11} u_{13}}{2} \\sqrt{2} u_{22} + \\frac{u_{12} u_{13}}{2} \\sqrt{2} u_{21} & u_{11} u_{12} u_{22} - u_{12}^{2} u_{21} & u_{12} u_{13} u_{23} - u_{13}^{2} u_{22} & - u_{11} u_{13} u_{23} + u_{13}^{2} u_{21} & \\frac{u_{11} u_{13}}{2} \\sqrt{6} u_{22} - \\frac{u_{12} u_{13}}{2} \\sqrt{6} u_{21} & 0\\\\- u_{21}^{2} u_{33} + u_{21} u_{23} u_{31} & u_{21}^{2} u_{32} - u_{21} u_{22} u_{31} & u_{22}^{2} u_{33} - u_{22} u_{23} u_{32} & - \\sqrt{2} u_{21} u_{22} u_{33} + \\frac{u_{21} u_{23}}{2} \\sqrt{2} u_{32} + \\frac{u_{22} u_{23}}{2} \\sqrt{2} u_{31} & u_{21} u_{22} u_{32} - u_{22}^{2} u_{31} & u_{22} u_{23} u_{33} - u_{23}^{2} u_{32} & - u_{21} u_{23} u_{33} + u_{23}^{2} u_{31} & \\frac{u_{21} u_{23}}{2} \\sqrt{6} u_{32} - \\frac{u_{22} u_{23}}{2} \\sqrt{6} u_{31} & 0\\\\\\sqrt{2} u_{11} u_{21} u_{33} - \\frac{u_{11} u_{23}}{2} \\sqrt{2} u_{31} - \\frac{u_{13} u_{21}}{2} \\sqrt{2} u_{31} & - \\sqrt{2} u_{11} u_{21} u_{32} + \\frac{u_{11} u_{22}}{2} \\sqrt{2} u_{31} + \\frac{u_{12} u_{21}}{2} \\sqrt{2} u_{31} & - \\sqrt{2} u_{12} u_{22} u_{33} + \\frac{u_{12} u_{23}}{2} \\sqrt{2} u_{32} + \\frac{u_{13} u_{22}}{2} \\sqrt{2} u_{32} & \\frac{u_{11} u_{23}}{2} u_{32} + 2 u_{12} u_{21} u_{33} - \\frac{3 u_{12}}{2} u_{23} u_{31} - \\frac{3 u_{13}}{2} u_{21} u_{32} + \\frac{u_{13} u_{22}}{2} u_{31} + 1 & - \\frac{u_{11} u_{22}}{2} \\sqrt{2} u_{32} - \\frac{u_{12} u_{21}}{2} \\sqrt{2} u_{32} + \\sqrt{2} u_{12} u_{22} u_{31} & - \\frac{u_{12} u_{23}}{2} \\sqrt{2} u_{33} - \\frac{u_{13} u_{22}}{2} \\sqrt{2} u_{33} + \\sqrt{2} u_{13} u_{23} u_{32} & \\frac{u_{11} u_{23}}{2} \\sqrt{2} u_{33} + \\frac{u_{13} u_{21}}{2} \\sqrt{2} u_{33} - \\sqrt{2} u_{13} u_{23} u_{31} & - \\frac{u_{11} u_{23}}{2} \\sqrt{3} u_{32} + \\frac{u_{12} u_{23}}{2} \\sqrt{3} u_{31} - \\frac{u_{13} u_{21}}{2} \\sqrt{3} u_{32} + \\frac{u_{13} u_{22}}{2} \\sqrt{3} u_{31} & 0\\\\- u_{11} u_{21} u_{23} + u_{13} u_{21}^{2} & u_{11} u_{21} u_{22} - u_{12} u_{21}^{2} & u_{12} u_{22} u_{23} - u_{13} u_{22}^{2} & - \\frac{u_{11} u_{22}}{2} \\sqrt{2} u_{23} - \\frac{u_{12} u_{21}}{2} \\sqrt{2} u_{23} + \\sqrt{2} u_{13} u_{21} u_{22} & u_{11} u_{22}^{2} - u_{12} u_{21} u_{22} & u_{12} u_{23}^{2} - u_{13} u_{22} u_{23} & - u_{11} u_{23}^{2} + u_{13} u_{21} u_{23} & \\frac{u_{11} u_{22}}{2} \\sqrt{6} u_{23} - \\frac{u_{12} u_{21}}{2} \\sqrt{6} u_{23} & 0\\\\- u_{21} u_{31} u_{33} + u_{23} u_{31}^{2} & u_{21} u_{31} u_{32} - u_{22} u_{31}^{2} & u_{22} u_{32} u_{33} - u_{23} u_{32}^{2} & - \\frac{u_{21} u_{32}}{2} \\sqrt{2} u_{33} - \\frac{u_{22} u_{31}}{2} \\sqrt{2} u_{33} + \\sqrt{2} u_{23} u_{31} u_{32} & u_{21} u_{32}^{2} - u_{22} u_{31} u_{32} & u_{22} u_{33}^{2} - u_{23} u_{32} u_{33} & - u_{21} u_{33}^{2} + u_{23} u_{31} u_{33} & \\frac{u_{21} u_{32}}{2} \\sqrt{6} u_{33} - \\frac{u_{22} u_{31}}{2} \\sqrt{6} u_{33} & 0\\\\u_{11} u_{31} u_{33} - u_{13} u_{31}^{2} & - u_{11} u_{31} u_{32} + u_{12} u_{31}^{2} & - u_{12} u_{32} u_{33} + u_{13} u_{32}^{2} & \\frac{u_{11} u_{32}}{2} \\sqrt{2} u_{33} + \\frac{u_{12} u_{31}}{2} \\sqrt{2} u_{33} - \\sqrt{2} u_{13} u_{31} u_{32} & - u_{11} u_{32}^{2} + u_{12} u_{31} u_{32} & - u_{12} u_{33}^{2} + u_{13} u_{32} u_{33} & u_{11} u_{33}^{2} - u_{13} u_{31} u_{33} & - \\frac{u_{11} u_{32}}{2} \\sqrt{6} u_{33} + \\frac{u_{12} u_{31}}{2} \\sqrt{6} u_{33} & 0\\\\- \\frac{u_{11} u_{23}}{2} \\sqrt{6} u_{31} + \\frac{u_{13} u_{21}}{2} \\sqrt{6} u_{31} & \\frac{u_{11} u_{22}}{2} \\sqrt{6} u_{31} - \\frac{u_{12} u_{21}}{2} \\sqrt{6} u_{31} & \\frac{u_{12} u_{23}}{2} \\sqrt{6} u_{32} - \\frac{u_{13} u_{22}}{2} \\sqrt{6} u_{32} & - \\frac{u_{11} u_{23}}{2} \\sqrt{3} u_{32} - \\frac{u_{12} u_{23}}{2} \\sqrt{3} u_{31} + \\frac{u_{13} u_{21}}{2} \\sqrt{3} u_{32} + \\frac{u_{13} u_{22}}{2} \\sqrt{3} u_{31} & \\frac{u_{11} u_{22}}{2} \\sqrt{6} u_{32} - \\frac{u_{12} u_{21}}{2} \\sqrt{6} u_{32} & \\frac{u_{12} u_{23}}{2} \\sqrt{6} u_{33} - \\frac{u_{13} u_{22}}{2} \\sqrt{6} u_{33} & - \\frac{u_{11} u_{23}}{2} \\sqrt{6} u_{33} + \\frac{u_{13} u_{21}}{2} \\sqrt{6} u_{33} & \\frac{3 u_{11}}{2} u_{23} u_{32} - \\frac{3 u_{12}}{2} u_{23} u_{31} - \\frac{3 u_{13}}{2} u_{21} u_{32} + \\frac{3 u_{13}}{2} u_{22} u_{31} + 1 & 0\\\\0 & 0 & 0 & 0 & 0 & 0 & 0 & 0 & 1\\end{matrix}\\right]$$"
      ],
      "text/plain": [
       "⎡                2                                                  2         \n",
       "⎢             u₁₁ ⋅u₃₃ - u₁₁⋅u₁₃⋅u₃₁                           - u₁₁ ⋅u₃₂ + u₁\n",
       "⎢                                                                             \n",
       "⎢                                                                             \n",
       "⎢                 2                                                2          \n",
       "⎢            - u₁₁ ⋅u₂₃ + u₁₁⋅u₁₃⋅u₂₁                           u₁₁ ⋅u₂₂ - u₁₁\n",
       "⎢                                                                             \n",
       "⎢                                                                             \n",
       "⎢                 2                                                2          \n",
       "⎢            - u₂₁ ⋅u₃₃ + u₂₁⋅u₂₃⋅u₃₁                           u₂₁ ⋅u₃₂ - u₂₁\n",
       "⎢                                                                             \n",
       "⎢                                                                             \n",
       "⎢                 √2⋅u₁₁⋅u₂₃⋅u₃₁   √2⋅u₁₃⋅u₂₁⋅u₃₁                    √2⋅u₁₁⋅u₂\n",
       "⎢√2⋅u₁₁⋅u₂₁⋅u₃₃ - ────────────── - ──────────────  -√2⋅u₁₁⋅u₂₁⋅u₃₂ + ─────────\n",
       "⎢                       2                2                                 2  \n",
       "⎢                                                                             \n",
       "⎢                                  2                                          \n",
       "⎢            -u₁₁⋅u₂₁⋅u₂₃ + u₁₃⋅u₂₁                             u₁₁⋅u₂₁⋅u₂₂ - \n",
       "⎢                                                                             \n",
       "⎢                                                                             \n",
       "⎢                                  2                                          \n",
       "⎢            -u₂₁⋅u₃₁⋅u₃₃ + u₂₃⋅u₃₁                             u₂₁⋅u₃₁⋅u₃₂ - \n",
       "⎢                                                                             \n",
       "⎢                                                                             \n",
       "⎢                                  2                                          \n",
       "⎢             u₁₁⋅u₃₁⋅u₃₃ - u₁₃⋅u₃₁                             -u₁₁⋅u₃₁⋅u₃₂ +\n",
       "⎢                                                                             \n",
       "⎢                                                                             \n",
       "⎢         √6⋅u₁₁⋅u₂₃⋅u₃₁   √6⋅u₁₃⋅u₂₁⋅u₃₁                   √6⋅u₁₁⋅u₂₂⋅u₃₁   √\n",
       "⎢       - ────────────── + ──────────────                   ────────────── - ─\n",
       "⎢               2                2                                2           \n",
       "⎢                                                                             \n",
       "⎣                       0                                                  0  \n",
       "\n",
       "                                         2                                    \n",
       "₁⋅u₁₂⋅u₃₁                           - u₁₂ ⋅u₃₃ + u₁₂⋅u₁₃⋅u₃₂                  \n",
       "                                                                              \n",
       "                                                                              \n",
       "                                        2                                     \n",
       "⋅u₁₂⋅u₂₁                             u₁₂ ⋅u₂₃ - u₁₂⋅u₁₃⋅u₂₂                   \n",
       "                                                                              \n",
       "                                                                              \n",
       "                                        2                                     \n",
       "⋅u₂₂⋅u₃₁                             u₂₂ ⋅u₃₃ - u₂₂⋅u₂₃⋅u₃₂                   \n",
       "                                                                              \n",
       "                                                                              \n",
       "₂⋅u₃₁   √2⋅u₁₂⋅u₂₁⋅u₃₁                    √2⋅u₁₂⋅u₂₃⋅u₃₂   √2⋅u₁₃⋅u₂₂⋅u₃₂  u₁₁\n",
       "───── + ──────────────  -√2⋅u₁₂⋅u₂₂⋅u₃₃ + ────────────── + ──────────────  ───\n",
       "              2                                 2                2            \n",
       "                                                                              \n",
       "       2                                                  2                   \n",
       "u₁₂⋅u₂₁                              u₁₂⋅u₂₂⋅u₂₃ - u₁₃⋅u₂₂                    \n",
       "                                                                              \n",
       "                                                                              \n",
       "       2                                                  2                   \n",
       "u₂₂⋅u₃₁                              u₂₂⋅u₃₂⋅u₃₃ - u₂₃⋅u₃₂                    \n",
       "                                                                              \n",
       "                                                                              \n",
       "        2                                                  2                  \n",
       " u₁₂⋅u₃₁                             -u₁₂⋅u₃₂⋅u₃₃ + u₁₃⋅u₃₂                   \n",
       "                                                                              \n",
       "                                                                              \n",
       "6⋅u₁₂⋅u₂₁⋅u₃₁                    √6⋅u₁₂⋅u₂₃⋅u₃₂   √6⋅u₁₃⋅u₂₂⋅u₃₂              \n",
       "─────────────                    ────────────── - ──────────────              \n",
       "     2                                 2                2                     \n",
       "                                                                              \n",
       "                                                0                             \n",
       "\n",
       "                            √2⋅u₁₁⋅u₁₃⋅u₃₂   √2⋅u₁₂⋅u₁₃⋅u₃₁                   \n",
       "           √2⋅u₁₁⋅u₁₂⋅u₃₃ - ────────────── - ──────────────                   \n",
       "                                  2                2                          \n",
       "                                                                              \n",
       "                             √2⋅u₁₁⋅u₁₃⋅u₂₂   √2⋅u₁₂⋅u₁₃⋅u₂₁                  \n",
       "           -√2⋅u₁₁⋅u₁₂⋅u₂₃ + ────────────── + ──────────────                  \n",
       "                                   2                2                         \n",
       "                                                                              \n",
       "                             √2⋅u₂₁⋅u₂₃⋅u₃₂   √2⋅u₂₂⋅u₂₃⋅u₃₁                  \n",
       "           -√2⋅u₂₁⋅u₂₂⋅u₃₃ + ────────────── + ──────────────                  \n",
       "                                   2                2                         \n",
       "                                                                              \n",
       "⋅u₂₃⋅u₃₂                   3⋅u₁₂⋅u₂₃⋅u₃₁   3⋅u₁₃⋅u₂₁⋅u₃₂   u₁₃⋅u₂₂⋅u₃₁        \n",
       "──────── + 2⋅u₁₂⋅u₂₁⋅u₃₃ - ───────────── - ───────────── + ─────────── + 1  - \n",
       "  2                              2               2              2             \n",
       "                                                                              \n",
       "            √2⋅u₁₁⋅u₂₂⋅u₂₃   √2⋅u₁₂⋅u₂₁⋅u₂₃                                   \n",
       "          - ────────────── - ────────────── + √2⋅u₁₃⋅u₂₁⋅u₂₂                  \n",
       "                  2                2                                          \n",
       "                                                                              \n",
       "            √2⋅u₂₁⋅u₃₂⋅u₃₃   √2⋅u₂₂⋅u₃₁⋅u₃₃                                   \n",
       "          - ────────────── - ────────────── + √2⋅u₂₃⋅u₃₁⋅u₃₂                  \n",
       "                  2                2                                          \n",
       "                                                                              \n",
       "           √2⋅u₁₁⋅u₃₂⋅u₃₃   √2⋅u₁₂⋅u₃₁⋅u₃₃                                    \n",
       "           ────────────── + ────────────── - √2⋅u₁₃⋅u₃₁⋅u₃₂                   \n",
       "                 2                2                                           \n",
       "                                                                              \n",
       "    √3⋅u₁₁⋅u₂₃⋅u₃₂   √3⋅u₁₂⋅u₂₃⋅u₃₁   √3⋅u₁₃⋅u₂₁⋅u₃₂   √3⋅u₁₃⋅u₂₂⋅u₃₁         \n",
       "  - ────────────── - ────────────── + ────────────── + ──────────────         \n",
       "          2                2                2                2                \n",
       "                                                                              \n",
       "                                   0                                          \n",
       "\n",
       "                             2                                                \n",
       "           -u₁₁⋅u₁₂⋅u₃₂ + u₁₂ ⋅u₃₁                             -u₁₂⋅u₁₃⋅u₃₃ + \n",
       "                                                                              \n",
       "                                                                              \n",
       "                             2                                                \n",
       "            u₁₁⋅u₁₂⋅u₂₂ - u₁₂ ⋅u₂₁                              u₁₂⋅u₁₃⋅u₂₃ - \n",
       "                                                                              \n",
       "                                                                              \n",
       "                             2                                                \n",
       "            u₂₁⋅u₂₂⋅u₃₂ - u₂₂ ⋅u₃₁                              u₂₂⋅u₂₃⋅u₃₃ - \n",
       "                                                                              \n",
       "                                                                              \n",
       "√2⋅u₁₁⋅u₂₂⋅u₃₂   √2⋅u₁₂⋅u₂₁⋅u₃₂                     √2⋅u₁₂⋅u₂₃⋅u₃₃   √2⋅u₁₃⋅u₂\n",
       "────────────── - ────────────── + √2⋅u₁₂⋅u₂₂⋅u₃₁  - ────────────── - ─────────\n",
       "      2                2                                  2                2  \n",
       "                                                                              \n",
       "                   2                                                   2      \n",
       "            u₁₁⋅u₂₂  - u₁₂⋅u₂₁⋅u₂₂                              u₁₂⋅u₂₃  - u₁₃\n",
       "                                                                              \n",
       "                                                                              \n",
       "                   2                                                   2      \n",
       "            u₂₁⋅u₃₂  - u₂₂⋅u₃₁⋅u₃₂                              u₂₂⋅u₃₃  - u₂₃\n",
       "                                                                              \n",
       "                                                                              \n",
       "                    2                                                   2     \n",
       "           - u₁₁⋅u₃₂  + u₁₂⋅u₃₁⋅u₃₂                            - u₁₂⋅u₃₃  + u₁\n",
       "                                                                              \n",
       "                                                                              \n",
       "       √6⋅u₁₁⋅u₂₂⋅u₃₂   √6⋅u₁₂⋅u₂₁⋅u₃₂                     √6⋅u₁₂⋅u₂₃⋅u₃₃   √6\n",
       "       ────────────── - ──────────────                     ────────────── - ──\n",
       "             2                2                                  2            \n",
       "                                                                              \n",
       "                      0                                                   0   \n",
       "\n",
       "   2                                                  2                       \n",
       "u₁₃ ⋅u₃₂                             u₁₁⋅u₁₃⋅u₃₃ - u₁₃ ⋅u₃₁                   \n",
       "                                                                              \n",
       "                                                                              \n",
       "   2                                                  2                       \n",
       "u₁₃ ⋅u₂₂                            -u₁₁⋅u₁₃⋅u₂₃ + u₁₃ ⋅u₂₁                   \n",
       "                                                                              \n",
       "                                                                              \n",
       "   2                                                  2                       \n",
       "u₂₃ ⋅u₃₂                            -u₂₁⋅u₂₃⋅u₃₃ + u₂₃ ⋅u₃₁                   \n",
       "                                                                              \n",
       "                                                                              \n",
       "₂⋅u₃₃                   √2⋅u₁₁⋅u₂₃⋅u₃₃   √2⋅u₁₃⋅u₂₁⋅u₃₃                     √3\n",
       "───── + √2⋅u₁₃⋅u₂₃⋅u₃₂  ────────────── + ────────────── - √2⋅u₁₃⋅u₂₃⋅u₃₁  - ──\n",
       "                              2                2                              \n",
       "                                                                              \n",
       "                                             2                                \n",
       "⋅u₂₂⋅u₂₃                            - u₁₁⋅u₂₃  + u₁₃⋅u₂₁⋅u₂₃                  \n",
       "                                                                              \n",
       "                                                                              \n",
       "                                             2                                \n",
       "⋅u₃₂⋅u₃₃                            - u₂₁⋅u₃₃  + u₂₃⋅u₃₁⋅u₃₃                  \n",
       "                                                                              \n",
       "                                                                              \n",
       "                                            2                                 \n",
       "₃⋅u₃₂⋅u₃₃                            u₁₁⋅u₃₃  - u₁₃⋅u₃₁⋅u₃₃                   \n",
       "                                                                              \n",
       "                                                                              \n",
       "⋅u₁₃⋅u₂₂⋅u₃₃                     √6⋅u₁₁⋅u₂₃⋅u₃₃   √6⋅u₁₃⋅u₂₁⋅u₃₃           3⋅u\n",
       "────────────                   - ────────────── + ──────────────           ───\n",
       "    2                                  2                2                     \n",
       "                                                                              \n",
       "                                               0                              \n",
       "\n",
       "               √6⋅u₁₁⋅u₁₃⋅u₃₂   √6⋅u₁₂⋅u₁₃⋅u₃₁                    ⎤\n",
       "             - ────────────── + ──────────────                   0⎥\n",
       "                     2                2                           ⎥\n",
       "                                                                  ⎥\n",
       "              √6⋅u₁₁⋅u₁₃⋅u₂₂   √6⋅u₁₂⋅u₁₃⋅u₂₁                     ⎥\n",
       "              ────────────── - ──────────────                    0⎥\n",
       "                    2                2                            ⎥\n",
       "                                                                  ⎥\n",
       "              √6⋅u₂₁⋅u₂₃⋅u₃₂   √6⋅u₂₂⋅u₂₃⋅u₃₁                     ⎥\n",
       "              ────────────── - ──────────────                    0⎥\n",
       "                    2                2                            ⎥\n",
       "                                                                  ⎥\n",
       "⋅u₁₁⋅u₂₃⋅u₃₂   √3⋅u₁₂⋅u₂₃⋅u₃₁   √3⋅u₁₃⋅u₂₁⋅u₃₂   √3⋅u₁₃⋅u₂₂⋅u₃₁   ⎥\n",
       "──────────── + ────────────── - ────────────── + ──────────────  0⎥\n",
       "    2                2                2                2          ⎥\n",
       "                                                                  ⎥\n",
       "              √6⋅u₁₁⋅u₂₂⋅u₂₃   √6⋅u₁₂⋅u₂₁⋅u₂₃                     ⎥\n",
       "              ────────────── - ──────────────                    0⎥\n",
       "                    2                2                            ⎥\n",
       "                                                                  ⎥\n",
       "              √6⋅u₂₁⋅u₃₂⋅u₃₃   √6⋅u₂₂⋅u₃₁⋅u₃₃                     ⎥\n",
       "              ────────────── - ──────────────                    0⎥\n",
       "                    2                2                            ⎥\n",
       "                                                                  ⎥\n",
       "               √6⋅u₁₁⋅u₃₂⋅u₃₃   √6⋅u₁₂⋅u₃₁⋅u₃₃                    ⎥\n",
       "             - ────────────── + ──────────────                   0⎥\n",
       "                     2                2                           ⎥\n",
       "                                                                  ⎥\n",
       "₁₁⋅u₂₃⋅u₃₂   3⋅u₁₂⋅u₂₃⋅u₃₁   3⋅u₁₃⋅u₂₁⋅u₃₂   3⋅u₁₃⋅u₂₂⋅u₃₁        ⎥\n",
       "────────── - ───────────── - ───────────── + ───────────── + 1   0⎥\n",
       "   2               2               2               2              ⎥\n",
       "                                                                  ⎥\n",
       "                             0                                   1⎦"
      ]
     },
     "execution_count": 39,
     "metadata": {},
     "output_type": "execute_result"
    }
   ],
   "source": [
    "UUbar=TensorProduct(U,Ubar.transpose())\n",
    "u=SS**-1 * UUbar *SS\n",
    "expand(expand(u).subs(u11*u22*u33,1-(det-u11*u22*u33)))"
   ]
  },
  {
   "cell_type": "code",
   "execution_count": 40,
   "metadata": {
    "collapsed": false
   },
   "outputs": [
    {
     "data": {
      "image/png": "[encoded data removed]",
      "text/latex": [
       "$$\\left[\\begin{matrix}- \\frac{1}{6} & 0 & 0 & 0 & 0 & 0 & 0 & 0 & 0\\\\0 & - \\frac{1}{6} & 0 & 0 & 0 & 0 & 0 & 0 & 0\\\\0 & 0 & - \\frac{1}{6} & 0 & 0 & 0 & 0 & 0 & 0\\\\0 & 0 & 0 & - \\frac{1}{6} & 0 & 0 & 0 & 0 & 0\\\\0 & 0 & 0 & 0 & - \\frac{1}{6} & 0 & 0 & 0 & 0\\\\0 & 0 & 0 & 0 & 0 & - \\frac{1}{6} & 0 & 0 & 0\\\\0 & 0 & 0 & 0 & 0 & 0 & - \\frac{1}{6} & 0 & 0\\\\0 & 0 & 0 & 0 & 0 & 0 & 0 & - \\frac{1}{6} & 0\\\\0 & 0 & 0 & 0 & 0 & 0 & 0 & 0 & \\frac{4}{3}\\end{matrix}\\right]$$"
      ],
      "text/plain": [
       "⎡-1/6   0     0     0     0     0     0     0     0 ⎤\n",
       "⎢                                                   ⎥\n",
       "⎢ 0    -1/6   0     0     0     0     0     0     0 ⎥\n",
       "⎢                                                   ⎥\n",
       "⎢ 0     0    -1/6   0     0     0     0     0     0 ⎥\n",
       "⎢                                                   ⎥\n",
       "⎢ 0     0     0    -1/6   0     0     0     0     0 ⎥\n",
       "⎢                                                   ⎥\n",
       "⎢ 0     0     0     0    -1/6   0     0     0     0 ⎥\n",
       "⎢                                                   ⎥\n",
       "⎢ 0     0     0     0     0    -1/6   0     0     0 ⎥\n",
       "⎢                                                   ⎥\n",
       "⎢ 0     0     0     0     0     0    -1/6   0     0 ⎥\n",
       "⎢                                                   ⎥\n",
       "⎢ 0     0     0     0     0     0     0    -1/6   0 ⎥\n",
       "⎢                                                   ⎥\n",
       "⎣ 0     0     0     0     0     0     0     0    4/3⎦"
      ]
     },
     "execution_count": 40,
     "metadata": {},
     "output_type": "execute_result"
    }
   ],
   "source": [
    "SS.inv()*FF*SS"
   ]
  },
  {
   "cell_type": "markdown",
   "metadata": {},
   "source": [
    "We see that we have a group of 8 states and a single state. The eigenvalue for this single state is the factor 4/3 that entered some formulae for the quark-antiquark potential."
   ]
  },
  {
   "cell_type": "markdown",
   "metadata": {},
   "source": [
    "# meson flavour octet"
   ]
  },
  {
   "cell_type": "markdown",
   "metadata": {},
   "source": [
    "Now we look at the meson octed, for this we have three flavours of quarks $u$, $d$ and $s$, related by an approximate symmetry. We want the states to be grouped into sets that transform together under rotations in flavour space, that is states with the same eigenvalue of $FF$. We want to separate them in states with definite electric charge so we need to define the charge operator. If we work in the basis where the $u$ component is the first component, the $d$ component the second and the $s$ component the third, the charge operator can be written as \n",
    "\n",
    "$q=\\left(\\begin{array}{ccc}2/3&0&0\\\\0&-1/3 &0\\\\0&0&-1/3\\end{array}\\right)$\n",
    "\n",
    "for the quarks and $-q$ for the anti-quarks. The charge operator for tensor states is the tensor product\n",
    "\n",
    "$Q==q\\otimes \\mathbf{1}+\\mathbf{1}\\otimes (-q)$"
   ]
  },
  {
   "cell_type": "code",
   "execution_count": 41,
   "metadata": {
    "collapsed": false
   },
   "outputs": [],
   "source": [
    "FF=__builtin__.sum([TensorProduct(g,g.conjugate()) for g in gs],sympy.zeros(9))\n",
    "q=Matrix([[2,0,0],[0,-1,0],[0,0,-1]])/3\n",
    "Q=TensorProduct(q,iii)-TensorProduct(iii,q)"
   ]
  },
  {
   "cell_type": "markdown",
   "metadata": {},
   "source": [
    "We also want to have a basis of states with fixed isospins so we need to define the isospin operator. We can see that the three components of the isospin operator are the first three Gell-Mann matrices. To obtain the isospin matrices for the conjugate states we need to change from the $\\bar u$,$\\bar d$ basis to the $(-\\bar d,\\bar u )$ basis as explained in the notes, this is achieved by sandwiching the isospin operators with the matrix \n",
    "\n",
    "$\\left(\\begin{array}{ccc}0&1&0\\\\-1&0&0\\\\0&0&0\\end{array}\\right)$"
   ]
  },
  {
   "cell_type": "code",
   "execution_count": 42,
   "metadata": {
    "collapsed": false
   },
   "outputs": [],
   "source": [
    "g2=Matrix([\n",
    "[ 0, 1, 0],\n",
    "[-1, 0, 0],\n",
    "[ 0, 0, 0]])\n",
    "ixcc=g2.transpose()*gs[0]*g2\n",
    "iycc=g2.transpose()*gs[1]*g2\n",
    "izcc=g2.transpose()*gs[2]*g2"
   ]
  },
  {
   "cell_type": "markdown",
   "metadata": {},
   "source": [
    "The isospin operator of the tensor product state is given by the sum of the isospin of the quark and the antiquark."
   ]
  },
  {
   "cell_type": "code",
   "execution_count": 43,
   "metadata": {
    "collapsed": true
   },
   "outputs": [],
   "source": [
    "Ix=TensorProduct(gs[0],iii)+TensorProduct(iii,ixcc)\n",
    "Iy=TensorProduct(gs[1],iii)+TensorProduct(iii,iycc)\n",
    "Iz=TensorProduct(gs[2],iii)+TensorProduct(iii,izcc)\n",
    "I2=Ix*Ix+Iy*Iy+Iz*Iz"
   ]
  },
  {
   "cell_type": "markdown",
   "metadata": {},
   "source": [
    "We can introduce the strnagness operator:"
   ]
  },
  {
   "cell_type": "code",
   "execution_count": 44,
   "metadata": {
    "collapsed": false
   },
   "outputs": [],
   "source": [
    "St=Matrix([[0,0,0],[0,0,0],[0,0,-1]])\n",
    "Strangeness=TensorProduct(St,iii)-TensorProduct(iii,St)"
   ]
  },
  {
   "cell_type": "markdown",
   "metadata": {},
   "source": [
    "Now we find a basis where all operators are diagonal"
   ]
  },
  {
   "cell_type": "code",
   "execution_count": 45,
   "metadata": {
    "collapsed": false
   },
   "outputs": [],
   "source": [
    "SS=findBasis(FF,I2,Strangeness,Iz,Q)"
   ]
  },
  {
   "cell_type": "markdown",
   "metadata": {},
   "source": [
    "The eigenvalues of $FF$ show that the eight first eigenstates are part of an octet, the last is a singlet:"
   ]
  },
  {
   "cell_type": "code",
   "execution_count": 46,
   "metadata": {
    "collapsed": false
   },
   "outputs": [
    {
     "name": "stdout",
     "output_type": "stream",
     "text": [
      "⎡-1/6   0     0     0     0     0     0     0     0 ⎤\n",
      "⎢                                                   ⎥\n",
      "⎢ 0    -1/6   0     0     0     0     0     0     0 ⎥\n",
      "⎢                                                   ⎥\n",
      "⎢ 0     0    -1/6   0     0     0     0     0     0 ⎥\n",
      "⎢                                                   ⎥\n",
      "⎢ 0     0     0    -1/6   0     0     0     0     0 ⎥\n",
      "⎢                                                   ⎥\n",
      "⎢ 0     0     0     0    -1/6   0     0     0     0 ⎥\n",
      "⎢                                                   ⎥\n",
      "⎢ 0     0     0     0     0    -1/6   0     0     0 ⎥\n",
      "⎢                                                   ⎥\n",
      "⎢ 0     0     0     0     0     0    -1/6   0     0 ⎥\n",
      "⎢                                                   ⎥\n",
      "⎢ 0     0     0     0     0     0     0    -1/6   0 ⎥\n",
      "⎢                                                   ⎥\n",
      "⎣ 0     0     0     0     0     0     0     0    4/3⎦\n"
     ]
    }
   ],
   "source": [
    "pprint(SS.inv()*FF*SS)"
   ]
  },
  {
   "cell_type": "markdown",
   "metadata": {},
   "source": [
    "The eigenvalues of the isospin squared show that we have two isospin $1/2$, on isospin $1$ and two singlets "
   ]
  },
  {
   "cell_type": "code",
   "execution_count": 47,
   "metadata": {
    "collapsed": false
   },
   "outputs": [
    {
     "name": "stdout",
     "output_type": "stream",
     "text": [
      "⎡⎡0   0    0    0    0   0  0  0  0⎤, ⎡0   0     0    0     0   0   0  0  0⎤⎤\n",
      "⎢⎢                                 ⎥  ⎢                                    ⎥⎥\n",
      "⎢⎢0  3/4   0    0    0   0  0  0  0⎥  ⎢0  -1/2   0    0     0   0   0  0  0⎥⎥\n",
      "⎢⎢                                 ⎥  ⎢                                    ⎥⎥\n",
      "⎢⎢0   0   3/4   0    0   0  0  0  0⎥  ⎢0   0    1/2   0     0   0   0  0  0⎥⎥\n",
      "⎢⎢                                 ⎥  ⎢                                    ⎥⎥\n",
      "⎢⎢0   0    0   3/4   0   0  0  0  0⎥  ⎢0   0     0   -1/2   0   0   0  0  0⎥⎥\n",
      "⎢⎢                                 ⎥  ⎢                                    ⎥⎥\n",
      "⎢⎢0   0    0    0   3/4  0  0  0  0⎥  ⎢0   0     0    0    1/2  0   0  0  0⎥⎥\n",
      "⎢⎢                                 ⎥  ⎢                                    ⎥⎥\n",
      "⎢⎢0   0    0    0    0   2  0  0  0⎥  ⎢0   0     0    0     0   -1  0  0  0⎥⎥\n",
      "⎢⎢                                 ⎥  ⎢                                    ⎥⎥\n",
      "⎢⎢0   0    0    0    0   0  2  0  0⎥  ⎢0   0     0    0     0   0   0  0  0⎥⎥\n",
      "⎢⎢                                 ⎥  ⎢                                    ⎥⎥\n",
      "⎢⎢0   0    0    0    0   0  0  2  0⎥  ⎢0   0     0    0     0   0   0  1  0⎥⎥\n",
      "⎢⎢                                 ⎥  ⎢                                    ⎥⎥\n",
      "⎣⎣0   0    0    0    0   0  0  0  0⎦  ⎣0   0     0    0     0   0   0  0  0⎦⎦\n"
     ]
    }
   ],
   "source": [
    "I2Diag=SS.inv()*I2*SS\n",
    "IzDiag=SS.inv()*Iz*SS\n",
    "pprint([I2Diag,IzDiag])"
   ]
  },
  {
   "cell_type": "markdown",
   "metadata": {},
   "source": [
    "The charges and strangeness are the following"
   ]
  },
  {
   "cell_type": "code",
   "execution_count": 48,
   "metadata": {
    "collapsed": false
   },
   "outputs": [
    {
     "name": "stdout",
     "output_type": "stream",
     "text": [
      "⎡⎡0  0   0  0  0  0   0  0  0⎤, ⎡0  0   0   0  0  0  0  0  0⎤⎤\n",
      "⎢⎢                           ⎥  ⎢                           ⎥⎥\n",
      "⎢⎢0  -1  0  0  0  0   0  0  0⎥  ⎢0  -1  0   0  0  0  0  0  0⎥⎥\n",
      "⎢⎢                           ⎥  ⎢                           ⎥⎥\n",
      "⎢⎢0  0   0  0  0  0   0  0  0⎥  ⎢0  0   -1  0  0  0  0  0  0⎥⎥\n",
      "⎢⎢                           ⎥  ⎢                           ⎥⎥\n",
      "⎢⎢0  0   0  0  0  0   0  0  0⎥  ⎢0  0   0   1  0  0  0  0  0⎥⎥\n",
      "⎢⎢                           ⎥  ⎢                           ⎥⎥\n",
      "⎢⎢0  0   0  0  1  0   0  0  0⎥  ⎢0  0   0   0  1  0  0  0  0⎥⎥\n",
      "⎢⎢                           ⎥  ⎢                           ⎥⎥\n",
      "⎢⎢0  0   0  0  0  -1  0  0  0⎥  ⎢0  0   0   0  0  0  0  0  0⎥⎥\n",
      "⎢⎢                           ⎥  ⎢                           ⎥⎥\n",
      "⎢⎢0  0   0  0  0  0   0  0  0⎥  ⎢0  0   0   0  0  0  0  0  0⎥⎥\n",
      "⎢⎢                           ⎥  ⎢                           ⎥⎥\n",
      "⎢⎢0  0   0  0  0  0   0  1  0⎥  ⎢0  0   0   0  0  0  0  0  0⎥⎥\n",
      "⎢⎢                           ⎥  ⎢                           ⎥⎥\n",
      "⎣⎣0  0   0  0  0  0   0  0  0⎦  ⎣0  0   0   0  0  0  0  0  0⎦⎦\n"
     ]
    }
   ],
   "source": [
    "QDiag=SS.inv()*Q*SS\n",
    "StrDiag=SS.inv()*Strangeness*SS\n",
    "pprint([QDiag,StrDiag])"
   ]
  },
  {
   "cell_type": "markdown",
   "metadata": {},
   "source": [
    "The components of the eigenvectors are the columns of the $SS$ matrix:"
   ]
  },
  {
   "cell_type": "code",
   "execution_count": 49,
   "metadata": {
    "collapsed": false
   },
   "outputs": [
    {
     "data": {
      "image/png": "[encoded data removed]",
      "text/latex": [
       "$$\\left[\\begin{matrix}- \\frac{\\sqrt{6}}{6} & 0 & 0 & 0 & 0 & 0 & - \\frac{\\sqrt{2}}{2} & 0 & \\frac{\\sqrt{3}}{3}\\\\0 & 0 & 0 & 0 & 0 & 0 & 0 & 1 & 0\\\\0 & 0 & 0 & 0 & 1 & 0 & 0 & 0 & 0\\\\0 & 0 & 0 & 0 & 0 & 1 & 0 & 0 & 0\\\\- \\frac{\\sqrt{6}}{6} & 0 & 0 & 0 & 0 & 0 & \\frac{\\sqrt{2}}{2} & 0 & \\frac{\\sqrt{3}}{3}\\\\0 & 0 & 0 & 1 & 0 & 0 & 0 & 0 & 0\\\\0 & 1 & 0 & 0 & 0 & 0 & 0 & 0 & 0\\\\0 & 0 & 1 & 0 & 0 & 0 & 0 & 0 & 0\\\\\\frac{\\sqrt{6}}{3} & 0 & 0 & 0 & 0 & 0 & 0 & 0 & \\frac{\\sqrt{3}}{3}\\end{matrix}\\right]$$"
      ],
      "text/plain": [
       "⎡-√6                  -√2      √3⎤\n",
       "⎢────  0  0  0  0  0  ────  0  ──⎥\n",
       "⎢ 6                    2       3 ⎥\n",
       "⎢                                ⎥\n",
       "⎢ 0    0  0  0  0  0   0    1  0 ⎥\n",
       "⎢                                ⎥\n",
       "⎢ 0    0  0  0  1  0   0    0  0 ⎥\n",
       "⎢                                ⎥\n",
       "⎢ 0    0  0  0  0  1   0    0  0 ⎥\n",
       "⎢                                ⎥\n",
       "⎢-√6                   √2      √3⎥\n",
       "⎢────  0  0  0  0  0   ──   0  ──⎥\n",
       "⎢ 6                    2       3 ⎥\n",
       "⎢                                ⎥\n",
       "⎢ 0    0  0  1  0  0   0    0  0 ⎥\n",
       "⎢                                ⎥\n",
       "⎢ 0    1  0  0  0  0   0    0  0 ⎥\n",
       "⎢                                ⎥\n",
       "⎢ 0    0  1  0  0  0   0    0  0 ⎥\n",
       "⎢                                ⎥\n",
       "⎢ √6                           √3⎥\n",
       "⎢ ──   0  0  0  0  0   0    0  ──⎥\n",
       "⎣ 3                            3 ⎦"
      ]
     },
     "execution_count": 49,
     "metadata": {},
     "output_type": "execute_result"
    }
   ],
   "source": [
    "SS"
   ]
  },
  {
   "cell_type": "code",
   "execution_count": 50,
   "metadata": {
    "collapsed": false
   },
   "outputs": [
    {
     "data": {
      "text/html": [
       "<div>\n",
       "<table border=\"1\" class=\"dataframe\">\n",
       "  <thead>\n",
       "    <tr style=\"text-align: right;\">\n",
       "      <th></th>\n",
       "      <th>Wave function</th>\n",
       "      <th>Charge</th>\n",
       "      <th>I</th>\n",
       "      <th>$I_3$</th>\n",
       "      <th>Strangeness</th>\n",
       "    </tr>\n",
       "  </thead>\n",
       "  <tbody>\n",
       "    <tr>\n",
       "      <th>0</th>\n",
       "      <td>sqrt(6)*(-d*dbar + 2*s*sbar - u*ubar)/6</td>\n",
       "      <td>0</td>\n",
       "      <td>0</td>\n",
       "      <td>0</td>\n",
       "      <td>0</td>\n",
       "    </tr>\n",
       "    <tr>\n",
       "      <th>1</th>\n",
       "      <td>s*ubar</td>\n",
       "      <td>-1</td>\n",
       "      <td>1/2</td>\n",
       "      <td>-1/2</td>\n",
       "      <td>-1</td>\n",
       "    </tr>\n",
       "    <tr>\n",
       "      <th>2</th>\n",
       "      <td>s*dbar</td>\n",
       "      <td>0</td>\n",
       "      <td>1/2</td>\n",
       "      <td>1/2</td>\n",
       "      <td>-1</td>\n",
       "    </tr>\n",
       "    <tr>\n",
       "      <th>3</th>\n",
       "      <td>d*sbar</td>\n",
       "      <td>0</td>\n",
       "      <td>1/2</td>\n",
       "      <td>-1/2</td>\n",
       "      <td>1</td>\n",
       "    </tr>\n",
       "    <tr>\n",
       "      <th>4</th>\n",
       "      <td>u*sbar</td>\n",
       "      <td>1</td>\n",
       "      <td>1/2</td>\n",
       "      <td>1/2</td>\n",
       "      <td>1</td>\n",
       "    </tr>\n",
       "    <tr>\n",
       "      <th>5</th>\n",
       "      <td>d*ubar</td>\n",
       "      <td>-1</td>\n",
       "      <td>1</td>\n",
       "      <td>-1</td>\n",
       "      <td>0</td>\n",
       "    </tr>\n",
       "    <tr>\n",
       "      <th>6</th>\n",
       "      <td>sqrt(2)*(d*dbar - u*ubar)/2</td>\n",
       "      <td>0</td>\n",
       "      <td>1</td>\n",
       "      <td>0</td>\n",
       "      <td>0</td>\n",
       "    </tr>\n",
       "    <tr>\n",
       "      <th>7</th>\n",
       "      <td>u*dbar</td>\n",
       "      <td>1</td>\n",
       "      <td>1</td>\n",
       "      <td>1</td>\n",
       "      <td>0</td>\n",
       "    </tr>\n",
       "    <tr>\n",
       "      <th>8</th>\n",
       "      <td>sqrt(3)*(d*dbar + s*sbar + u*ubar)/3</td>\n",
       "      <td>0</td>\n",
       "      <td>0</td>\n",
       "      <td>0</td>\n",
       "      <td>0</td>\n",
       "    </tr>\n",
       "  </tbody>\n",
       "</table>\n",
       "</div>"
      ],
      "text/plain": [
       "                             Wave function Charge    I $I_3$ Strangeness\n",
       "0  sqrt(6)*(-d*dbar + 2*s*sbar - u*ubar)/6      0    0     0           0\n",
       "1                                   s*ubar     -1  1/2  -1/2          -1\n",
       "2                                   s*dbar      0  1/2   1/2          -1\n",
       "3                                   d*sbar      0  1/2  -1/2           1\n",
       "4                                   u*sbar      1  1/2   1/2           1\n",
       "5                                   d*ubar     -1    1    -1           0\n",
       "6              sqrt(2)*(d*dbar - u*ubar)/2      0    1     0           0\n",
       "7                                   u*dbar      1    1     1           0\n",
       "8     sqrt(3)*(d*dbar + s*sbar + u*ubar)/3      0    0     0           0"
      ]
     },
     "execution_count": 50,
     "metadata": {},
     "output_type": "execute_result"
    }
   ],
   "source": [
    "u,d,s=symbols('u,d,s',Commutative=False)\n",
    "ub,db,sb=symbols('ubar,dbar,sbar',commutative=False)\n",
    "quarks=Matrix([[u,d,s]]).transpose()\n",
    "antiquarks=Matrix([[ub,db,sb]]).transpose()\n",
    "tensorState=quarks=TensorProduct(quarks,antiquarks)\n",
    "\n",
    "tab=[]\n",
    "for i in range(SS.shape[0]):\n",
    "    wf=(tensorState.transpose()*SS[:,i])[0,0]\n",
    "    i2=I2Diag[i,i]\n",
    "    ii=(sympy.sqrt(1+4*i2)-1)/2\n",
    "    iz=IzDiag[i,i]\n",
    "    q=QDiag[i,i]\n",
    "    strang=StrDiag[i,i]\n",
    "    tab.append([simplify(wf),q,ii,iz,strang])\n",
    "\n",
    "pd.DataFrame(tab,columns=['Wave function','Charge','I','$I_3$','Strangeness'])"
   ]
  },
  {
   "cell_type": "markdown",
   "metadata": {},
   "source": [
    "We can now assign the name of the particles"
   ]
  },
  {
   "cell_type": "code",
   "execution_count": 51,
   "metadata": {
    "collapsed": false
   },
   "outputs": [
    {
     "data": {
      "text/html": [
       "<div>\n",
       "<table border=\"1\" class=\"dataframe\">\n",
       "  <thead>\n",
       "    <tr style=\"text-align: right;\">\n",
       "      <th></th>\n",
       "      <th>Wave function</th>\n",
       "      <th>Charge</th>\n",
       "      <th>I</th>\n",
       "      <th>$I_3$</th>\n",
       "      <th>Strangeness</th>\n",
       "    </tr>\n",
       "  </thead>\n",
       "  <tbody>\n",
       "    <tr>\n",
       "      <th>$\\eta$</th>\n",
       "      <td>sqrt(6)*(-d*dbar + 2*s*sbar - u*ubar)/6</td>\n",
       "      <td>0</td>\n",
       "      <td>0</td>\n",
       "      <td>0</td>\n",
       "      <td>0</td>\n",
       "    </tr>\n",
       "    <tr>\n",
       "      <th>$K^-$</th>\n",
       "      <td>s*ubar</td>\n",
       "      <td>-1</td>\n",
       "      <td>1/2</td>\n",
       "      <td>-1/2</td>\n",
       "      <td>-1</td>\n",
       "    </tr>\n",
       "    <tr>\n",
       "      <th>$\\bar K^0$</th>\n",
       "      <td>s*dbar</td>\n",
       "      <td>0</td>\n",
       "      <td>1/2</td>\n",
       "      <td>1/2</td>\n",
       "      <td>-1</td>\n",
       "    </tr>\n",
       "    <tr>\n",
       "      <th>$K^0$</th>\n",
       "      <td>d*sbar</td>\n",
       "      <td>0</td>\n",
       "      <td>1/2</td>\n",
       "      <td>-1/2</td>\n",
       "      <td>1</td>\n",
       "    </tr>\n",
       "    <tr>\n",
       "      <th>$K^+$</th>\n",
       "      <td>u*sbar</td>\n",
       "      <td>1</td>\n",
       "      <td>1/2</td>\n",
       "      <td>1/2</td>\n",
       "      <td>1</td>\n",
       "    </tr>\n",
       "    <tr>\n",
       "      <th>$\\pi^-$</th>\n",
       "      <td>d*ubar</td>\n",
       "      <td>-1</td>\n",
       "      <td>1</td>\n",
       "      <td>-1</td>\n",
       "      <td>0</td>\n",
       "    </tr>\n",
       "    <tr>\n",
       "      <th>$\\pi^0$</th>\n",
       "      <td>sqrt(2)*(d*dbar - u*ubar)/2</td>\n",
       "      <td>0</td>\n",
       "      <td>1</td>\n",
       "      <td>0</td>\n",
       "      <td>0</td>\n",
       "    </tr>\n",
       "    <tr>\n",
       "      <th>$\\pi^+$</th>\n",
       "      <td>u*dbar</td>\n",
       "      <td>1</td>\n",
       "      <td>1</td>\n",
       "      <td>1</td>\n",
       "      <td>0</td>\n",
       "    </tr>\n",
       "    <tr>\n",
       "      <th>$\\eta'$</th>\n",
       "      <td>sqrt(3)*(d*dbar + s*sbar + u*ubar)/3</td>\n",
       "      <td>0</td>\n",
       "      <td>0</td>\n",
       "      <td>0</td>\n",
       "      <td>0</td>\n",
       "    </tr>\n",
       "  </tbody>\n",
       "</table>\n",
       "</div>"
      ],
      "text/plain": [
       "                                      Wave function Charge    I $I_3$  \\\n",
       "$\\eta$      sqrt(6)*(-d*dbar + 2*s*sbar - u*ubar)/6      0    0     0   \n",
       "$K^-$                                        s*ubar     -1  1/2  -1/2   \n",
       "$\\bar K^0$                                   s*dbar      0  1/2   1/2   \n",
       "$K^0$                                        d*sbar      0  1/2  -1/2   \n",
       "$K^+$                                        u*sbar      1  1/2   1/2   \n",
       "$\\pi^-$                                      d*ubar     -1    1    -1   \n",
       "$\\pi^0$                 sqrt(2)*(d*dbar - u*ubar)/2      0    1     0   \n",
       "$\\pi^+$                                      u*dbar      1    1     1   \n",
       "$\\eta'$        sqrt(3)*(d*dbar + s*sbar + u*ubar)/3      0    0     0   \n",
       "\n",
       "           Strangeness  \n",
       "$\\eta$               0  \n",
       "$K^-$               -1  \n",
       "$\\bar K^0$          -1  \n",
       "$K^0$                1  \n",
       "$K^+$                1  \n",
       "$\\pi^-$              0  \n",
       "$\\pi^0$              0  \n",
       "$\\pi^+$              0  \n",
       "$\\eta'$              0  "
      ]
     },
     "execution_count": 51,
     "metadata": {},
     "output_type": "execute_result"
    }
   ],
   "source": [
    "pd.DataFrame(tab,columns=['Wave function','Charge','I','$I_3$','Strangeness'],\n",
    "            index=[r'$\\eta$','$K^-$',r'$\\bar K^0$','$K^0$','$K^+$','$\\pi^-$','$\\pi^0$','$\\pi^+$',r\"$\\eta'$\"])"
   ]
  },
  {
   "cell_type": "code",
   "execution_count": null,
   "metadata": {
    "collapsed": true
   },
   "outputs": [],
   "source": []
  }
 ],
 "metadata": {
  "kernelspec": {
   "display_name": "Python 2",
   "language": "python",
   "name": "python2"
  },
  "language_info": {
   "codemirror_mode": {
    "name": "ipython",
    "version": 2
   },
   "file_extension": ".py",
   "mimetype": "text/x-python",
   "name": "python",
   "nbconvert_exporter": "python",
   "pygments_lexer": "ipython2",
   "version": "2.7.12"
  }
 },
 "nbformat": 4,
 "nbformat_minor": 0
}
